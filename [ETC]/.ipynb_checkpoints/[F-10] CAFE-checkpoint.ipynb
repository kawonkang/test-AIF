{
 "cells": [
  {
   "cell_type": "markdown",
   "id": "d6cb8ff5",
   "metadata": {},
   "source": [
    "1. 필수 문제 세 가지를 해결하였는가?\n",
    "\n",
    "데이터 전처리 방법과 시각화 도구를 사용하여, 문제에서 제시된 요구사항들을 모두 만족하였다\n",
    "\n",
    "2. 프로젝트를 통해 해결하고 싶은 문제를 정의하였는가?\n",
    "\n",
    "제공된 데이터에서 문제 해결에 필요한 부분을 선별해냈고, 이를 확인하기 위해 적절한 형태로 전처리하였다.\n",
    "\n",
    "3. 내가 정의한 문제를 해결하려고 하였고 적절한 결과를 도출하였는가?\n",
    "\n",
    "스스로 정의한 문제에 대해 다양한 해결 시도를 하였고 적절한 결과를 도출하였다."
   ]
  },
  {
   "cell_type": "markdown",
   "id": "bbea249b",
   "metadata": {},
   "source": [
    "- entry_data: '모두 스터디카페'의 시간별 입장 기록 데이터\n",
    "- sales_data: '모두 스터디카페'의 시간별 음식/음료 판매 데이터\n",
    "- item_data: '모두 스터디카페'에서 판매하고 있는 음식/음료 종류와 가격\n",
    "- item_entry_data: '모두 스터디카페'에서 판매하고 있는 입장권 종류와 가격"
   ]
  },
  {
   "cell_type": "markdown",
   "id": "996e5eb1",
   "metadata": {},
   "source": [
    "#### 시각화\n",
    "- 월별 매출액 추세\n",
    "- 가장 인기있는 음식/음료\n",
    "- 가장 많이 팔린 입장권 종류"
   ]
  },
  {
   "cell_type": "code",
   "execution_count": null,
   "id": "04099570",
   "metadata": {},
   "outputs": [],
   "source": []
  }
 ],
 "metadata": {
  "kernelspec": {
   "display_name": "Python 3 (ipykernel)",
   "language": "python",
   "name": "python3"
  },
  "language_info": {
   "codemirror_mode": {
    "name": "ipython",
    "version": 3
   },
   "file_extension": ".py",
   "mimetype": "text/x-python",
   "name": "python",
   "nbconvert_exporter": "python",
   "pygments_lexer": "ipython3",
   "version": "3.9.7"
  }
 },
 "nbformat": 4,
 "nbformat_minor": 5
}
