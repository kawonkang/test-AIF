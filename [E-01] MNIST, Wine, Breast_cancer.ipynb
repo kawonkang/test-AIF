{
 "cells": [
  {
   "cell_type": "code",
   "execution_count": 2,
   "id": "683b351c",
   "metadata": {},
   "outputs": [],
   "source": [
    "# Built-in 데이터셋 로드 함수\n",
    "from sklearn.datasets import load_digits, load_wine, load_breast_cancer\n",
    "# train, test 데이터셋 분류\n",
    "from sklearn.model_selection import train_test_split\n",
    "# 결과 출력\n",
    "from sklearn.metrics import classification_report\n",
    "import matplotlib.pyplot as plt\n",
    "import pandas as pd\n",
    "import numpy as np"
   ]
  },
  {
   "cell_type": "markdown",
   "id": "9576ccc3",
   "metadata": {},
   "source": [
    "### Toy 데이터셋 분석\n",
    "* [load_digits: MNIST 손글씨 데이터](#1.-MNIST-데이터셋-분석)\n",
    "* [load_wine: 와인 데이터](#2.-Wine-데이터셋-분석)\n",
    "* [load_breast_cancer: 위스콘신 유방암 환자 데이터](#3.-Cancer-데이터셋-분석)\n",
    "\n",
    "---"
   ]
  },
  {
   "cell_type": "markdown",
   "id": "bfe413ae",
   "metadata": {},
   "source": [
    "### 0. 데이터 로드 및 확인"
   ]
  },
  {
   "cell_type": "code",
   "execution_count": 3,
   "id": "8ade6906",
   "metadata": {},
   "outputs": [],
   "source": [
    "# digits\n",
    "mnist = load_digits()\n",
    "# wine\n",
    "wine = load_wine()\n",
    "# cancer\n",
    "b_cancer = load_breast_cancer()"
   ]
  },
  {
   "cell_type": "markdown",
   "id": "84cb8f74",
   "metadata": {},
   "source": [
    "* dir(): 객체가 어떤 변수와 메서드를 가지고 있는지 나열"
   ]
  },
  {
   "cell_type": "code",
   "execution_count": 4,
   "id": "f4d6328a",
   "metadata": {},
   "outputs": [
    {
     "name": "stdout",
     "output_type": "stream",
     "text": [
      "['DESCR', 'data', 'feature_names', 'frame', 'images', 'target', 'target_names']\n"
     ]
    }
   ],
   "source": [
    "print(dir(mnist))"
   ]
  },
  {
   "cell_type": "markdown",
   "id": "18c47184",
   "metadata": {},
   "source": [
    "빌트인 데이터셋은 sklearn.utils.Bunch 라는 자료구조를 활용함\n",
    "\n",
    "key-value 형식으로 구성 -> 사전(dict)형 타입과 유사 \n",
    "\n",
    "공통 key\n",
    "\n",
    "* data: 샘플 데이터, Numpy 배열로 이루어져 있습니다.\n",
    "* target: Label 데이터, Numpy 배열로 이루어져 있습니다.\n",
    "* feature_names: Feature 데이터의 이름\n",
    "* target_names: Label 데이터의 이름\n",
    "* DESCR: 데이터 셋의 설명\n",
    "* filename: 데이터 셋의 파일 저장 위치 (csv)\n",
    "\n",
    "---"
   ]
  },
  {
   "cell_type": "markdown",
   "id": "a19a0ad4",
   "metadata": {},
   "source": [
    "### 1. MNIST 데이터셋 분석"
   ]
  },
  {
   "cell_type": "code",
   "execution_count": 5,
   "id": "09b3a1f4",
   "metadata": {},
   "outputs": [],
   "source": [
    "# 1) 데이터 준비\n",
    "mnist = load_digits()"
   ]
  },
  {
   "cell_type": "markdown",
   "id": "505a7464",
   "metadata": {},
   "source": [
    "* Feature Data 지정하기\n",
    "* Label Data 지정하기\n",
    "* Target Names 출력해 보기\n",
    "* 데이터 Describe 해 보기\n"
   ]
  },
  {
   "cell_type": "code",
   "execution_count": 6,
   "id": "77033853",
   "metadata": {},
   "outputs": [
    {
     "data": {
      "text/plain": [
       "['DESCR', 'data', 'feature_names', 'frame', 'images', 'target', 'target_names']"
      ]
     },
     "execution_count": 6,
     "metadata": {},
     "output_type": "execute_result"
    }
   ],
   "source": [
    "dir(mnist)"
   ]
  },
  {
   "cell_type": "code",
   "execution_count": 21,
   "id": "8ac85a19",
   "metadata": {},
   "outputs": [
    {
     "data": {
      "text/plain": [
       "(1797, 64)"
      ]
     },
     "execution_count": 21,
     "metadata": {},
     "output_type": "execute_result"
    }
   ],
   "source": [
    "mnist.data.shape"
   ]
  },
  {
   "cell_type": "code",
   "execution_count": 67,
   "id": "c5d339ba",
   "metadata": {},
   "outputs": [
    {
     "data": {
      "text/plain": [
       "(16.0, 0.0)"
      ]
     },
     "execution_count": 67,
     "metadata": {},
     "output_type": "execute_result"
    }
   ],
   "source": [
    "# 0~16까지 음영도 나타냄\n",
    "mnist.data.max(), mnist.data.min()"
   ]
  },
  {
   "cell_type": "code",
   "execution_count": 22,
   "id": "286a474c",
   "metadata": {},
   "outputs": [
    {
     "data": {
      "text/plain": [
       "(1797,)"
      ]
     },
     "execution_count": 22,
     "metadata": {},
     "output_type": "execute_result"
    }
   ],
   "source": [
    "mnist.target.shape"
   ]
  },
  {
   "cell_type": "code",
   "execution_count": 8,
   "id": "44af852b",
   "metadata": {
    "scrolled": true
   },
   "outputs": [
    {
     "data": {
      "text/plain": [
       "['pixel_0_0',\n",
       " 'pixel_0_1',\n",
       " 'pixel_0_2',\n",
       " 'pixel_0_3',\n",
       " 'pixel_0_4',\n",
       " 'pixel_0_5',\n",
       " 'pixel_0_6',\n",
       " 'pixel_0_7',\n",
       " 'pixel_1_0',\n",
       " 'pixel_1_1',\n",
       " 'pixel_1_2',\n",
       " 'pixel_1_3',\n",
       " 'pixel_1_4',\n",
       " 'pixel_1_5',\n",
       " 'pixel_1_6',\n",
       " 'pixel_1_7',\n",
       " 'pixel_2_0',\n",
       " 'pixel_2_1',\n",
       " 'pixel_2_2',\n",
       " 'pixel_2_3',\n",
       " 'pixel_2_4',\n",
       " 'pixel_2_5',\n",
       " 'pixel_2_6',\n",
       " 'pixel_2_7',\n",
       " 'pixel_3_0',\n",
       " 'pixel_3_1',\n",
       " 'pixel_3_2',\n",
       " 'pixel_3_3',\n",
       " 'pixel_3_4',\n",
       " 'pixel_3_5',\n",
       " 'pixel_3_6',\n",
       " 'pixel_3_7',\n",
       " 'pixel_4_0',\n",
       " 'pixel_4_1',\n",
       " 'pixel_4_2',\n",
       " 'pixel_4_3',\n",
       " 'pixel_4_4',\n",
       " 'pixel_4_5',\n",
       " 'pixel_4_6',\n",
       " 'pixel_4_7',\n",
       " 'pixel_5_0',\n",
       " 'pixel_5_1',\n",
       " 'pixel_5_2',\n",
       " 'pixel_5_3',\n",
       " 'pixel_5_4',\n",
       " 'pixel_5_5',\n",
       " 'pixel_5_6',\n",
       " 'pixel_5_7',\n",
       " 'pixel_6_0',\n",
       " 'pixel_6_1',\n",
       " 'pixel_6_2',\n",
       " 'pixel_6_3',\n",
       " 'pixel_6_4',\n",
       " 'pixel_6_5',\n",
       " 'pixel_6_6',\n",
       " 'pixel_6_7',\n",
       " 'pixel_7_0',\n",
       " 'pixel_7_1',\n",
       " 'pixel_7_2',\n",
       " 'pixel_7_3',\n",
       " 'pixel_7_4',\n",
       " 'pixel_7_5',\n",
       " 'pixel_7_6',\n",
       " 'pixel_7_7']"
      ]
     },
     "execution_count": 8,
     "metadata": {},
     "output_type": "execute_result"
    }
   ],
   "source": [
    "#8X8 픽셀값 포함\n",
    "mnist.feature_names "
   ]
  },
  {
   "cell_type": "code",
   "execution_count": 35,
   "id": "0b1f236e",
   "metadata": {},
   "outputs": [
    {
     "data": {
      "text/plain": [
       "array([0, 1, 2, 3, 4, 5, 6, 7, 8, 9])"
      ]
     },
     "execution_count": 35,
     "metadata": {},
     "output_type": "execute_result"
    }
   ],
   "source": [
    "# Y값 0~9\n",
    "np.unique(mnist.target)"
   ]
  },
  {
   "cell_type": "code",
   "execution_count": 129,
   "id": "baa0656f",
   "metadata": {},
   "outputs": [
    {
     "data": {
      "image/png": "[encoded data removed]",
      "text/plain": [
       "<Figure size 432x288 with 1 Axes>"
      ]
     },
     "metadata": {
      "needs_background": "light"
     },
     "output_type": "display_data"
    }
   ],
   "source": [
    "# 2) 이미지 데이터 확인\n",
    "%matplotlib inline \n",
    "\n",
    "plt.imshow(mnist.data[0].reshape(8, 8), cmap='gray') # 2차원 구성\n",
    "plt.axis('off')\n",
    "plt.show()"
   ]
  },
  {
   "cell_type": "code",
   "execution_count": 130,
   "id": "b12d97ac",
   "metadata": {},
   "outputs": [
    {
     "data": {
      "image/png": "[encoded data removed]",
      "text/plain": [
       "<Figure size 432x288 with 10 Axes>"
      ]
     },
     "metadata": {
      "needs_background": "light"
     },
     "output_type": "display_data"
    }
   ],
   "source": [
    "# 3) 여러개 이미지 데이터 확인\n",
    "for i in range(10):\n",
    "    plt.subplot(2, 5, i+1) # 10개의 이미지를 2행 5열로 표시\n",
    "    plt.imshow(mnist.data[i].reshape(8, 8), cmap='gray') \n",
    "    # plt.imshow()는 (m,n) 형태의 데이터를 입력으로 받기 때문에\n",
    "    # 데이터셋 내의 1열로 펼쳐진 64개의 데이터를 원래의 이미지 형태인 (8,8)로 복원\n",
    "    # cmap은 해당 이미지의 색상을 지정(gray는 흑백으로 출력)\n",
    "    plt.axis('off') # 축을 보이지 않게 해줍니다. \n",
    "plt.show()"
   ]
  },
  {
   "cell_type": "code",
   "execution_count": 36,
   "id": "62e95c53",
   "metadata": {},
   "outputs": [
    {
     "name": "stdout",
     "output_type": "stream",
     "text": [
      "(1797,)\n"
     ]
    },
    {
     "data": {
      "text/plain": [
       "array([0, 1, 2, 3, 4, 5, 6, 7, 8, 9, 0, 1, 2, 3, 4, 5, 6, 7, 8, 9])"
      ]
     },
     "execution_count": 36,
     "metadata": {},
     "output_type": "execute_result"
    }
   ],
   "source": [
    "mnist_label = mnist.target # 각 이미지 라벨값 저장\n",
    "\n",
    "print(mnist_label.shape)\n",
    "mnist_label[:20]"
   ]
  },
  {
   "cell_type": "code",
   "execution_count": 24,
   "id": "7b33bcb9",
   "metadata": {},
   "outputs": [
    {
     "data": {
      "text/plain": [
       "((1437, 64), (1437,))"
      ]
     },
     "execution_count": 24,
     "metadata": {},
     "output_type": "execute_result"
    }
   ],
   "source": [
    "# train, test X, Y 분배\n",
    "X_train, X_test, y_train, y_test = train_test_split(mnist.data, \n",
    "                                                    mnist_label, \n",
    "                                                    test_size=0.2, # 8:2 = train:test\n",
    "                                                    random_state=7)\n",
    "\n",
    "\n",
    "X_train.shape, y_train.shape\n",
    "# train의 형상정보 확인"
   ]
  },
  {
   "cell_type": "markdown",
   "id": "b52e452d",
   "metadata": {},
   "source": [
    "### 0~9 분류 모델 생성 "
   ]
  },
  {
   "cell_type": "markdown",
   "id": "0a020165",
   "metadata": {},
   "source": [
    "#### Decision Tree "
   ]
  },
  {
   "cell_type": "code",
   "execution_count": 58,
   "id": "4b8adf0b",
   "metadata": {},
   "outputs": [
    {
     "name": "stdout",
     "output_type": "stream",
     "text": [
      "classifier\n",
      "              precision    recall  f1-score   support\n",
      "\n",
      "           0       1.00      0.98      0.99        43\n",
      "           1       0.81      0.81      0.81        42\n",
      "           2       0.79      0.82      0.80        40\n",
      "           3       0.79      0.91      0.85        34\n",
      "           4       0.83      0.95      0.89        37\n",
      "           5       0.90      0.96      0.93        28\n",
      "           6       0.84      0.93      0.88        28\n",
      "           7       0.96      0.82      0.89        33\n",
      "           8       0.88      0.65      0.75        43\n",
      "           9       0.78      0.78      0.78        32\n",
      "\n",
      "    accuracy                           0.86       360\n",
      "   macro avg       0.86      0.86      0.86       360\n",
      "weighted avg       0.86      0.86      0.85       360\n",
      "\n"
     ]
    }
   ],
   "source": [
    "from sklearn.tree import DecisionTreeClassifier \n",
    "\n",
    "decision_tree = DecisionTreeClassifier(random_state=32) \n",
    "\n",
    "print(decision_tree._estimator_type)\n",
    "\n",
    "decision_tree.fit(X_train, y_train) # 훈련\n",
    "y_pred = decision_tree.predict(X_test) # 예측\n",
    "\n",
    "# 실제 정답 y_test과 예측값 y_pred 비교하여 정확도 측정하기\n",
    "from sklearn.metrics import accuracy_score\n",
    "\n",
    "accuracy = accuracy_score(y_test, y_pred)\n",
    "accuracy\n",
    "\n",
    "print(classification_report(y_test, y_pred)) # 결과 지표 확인"
   ]
  },
  {
   "cell_type": "markdown",
   "id": "40e5e44f",
   "metadata": {},
   "source": [
    "- 틀린값 확인하기\n",
    "- 이게 맞는 방법인지 모름.."
   ]
  },
  {
   "cell_type": "code",
   "execution_count": 118,
   "id": "f90ed203",
   "metadata": {},
   "outputs": [
    {
     "data": {
      "text/plain": [
       "13"
      ]
     },
     "execution_count": 118,
     "metadata": {},
     "output_type": "execute_result"
    }
   ],
   "source": [
    "# 예측값을 서로 빼서 0값 제외 인덱스 찾기\n",
    "ans = y_test - y_pred\n",
    "np.count_nonzero(ans)"
   ]
  },
  {
   "cell_type": "code",
   "execution_count": 119,
   "id": "ffd4915e",
   "metadata": {},
   "outputs": [
    {
     "data": {
      "text/plain": [
       "array([[ 0.,  0., 13., 10.,  1.,  0.,  0.,  0.,  0.,  5., 16., 14.,  7.,\n",
       "         0.,  0.,  0.,  0.,  4., 16.,  8., 14.,  0.,  0.,  0.,  0.,  2.,\n",
       "        14., 16., 16.,  6.,  0.,  0.,  0.,  0.,  1.,  4.,  9., 13.,  1.,\n",
       "         0.,  0.,  0.,  0.,  0.,  0., 13.,  6.,  0.,  0.,  0.,  5.,  8.,\n",
       "         5.,  9., 14.,  0.,  0.,  0., 13., 13., 15., 16., 13.,  0.],\n",
       "       [ 0.,  0.,  7., 15., 16., 12.,  0.,  0.,  0., 12., 16., 11., 16.,\n",
       "        13.,  0.,  0.,  0., 15., 16., 16., 14.,  5.,  0.,  0.,  0.,  8.,\n",
       "        16., 12.,  0.,  0.,  0.,  0.,  0.,  0.,  2., 12.,  9.,  0.,  0.,\n",
       "         0.,  0.,  0.,  0.,  9., 13.,  0.,  0.,  0.,  0.,  0.,  2., 16.,\n",
       "         8.,  0.,  0.,  0.,  0.,  0., 10., 12.,  1.,  0.,  0.,  0.],\n",
       "       [ 0.,  0.,  1.,  8., 13.,  1.,  0.,  0.,  0.,  0.,  6., 16., 16.,\n",
       "         9.,  0.,  0.,  0.,  1., 15., 16., 16., 10.,  0.,  0.,  0.,  6.,\n",
       "        15., 14.,  6.,  0.,  0.,  0.,  0.,  3.,  7.,  6.,  6.,  0.,  0.,\n",
       "         0.,  0.,  1., 10.,  2., 11.,  0.,  0.,  0.,  0.,  0.,  4., 11.,\n",
       "        13.,  2.,  0.,  0.,  0.,  0.,  0.,  5., 12.,  5.,  0.,  0.],\n",
       "       [ 0.,  0.,  2.,  8.,  7.,  0.,  0.,  0.,  0.,  0.,  6., 15., 16.,\n",
       "         2.,  0.,  0.,  0.,  6., 15., 11., 16.,  4.,  0.,  0.,  0.,  5.,\n",
       "        16., 10., 16.,  1.,  0.,  0.,  0.,  2., 15., 16., 13.,  0.,  0.,\n",
       "         0.,  0.,  0.,  2., 16., 12.,  9.,  3.,  0.,  0.,  0.,  4., 14.,\n",
       "         0., 12., 14.,  1.,  0.,  0.,  1., 12., 10.,  7.,  0.,  0.],\n",
       "       [ 0.,  0.,  0., 11., 16., 12.,  1.,  0.,  0.,  0.,  5., 16., 10.,\n",
       "        16.,  4.,  0.,  0.,  2., 15., 10.,  0.,  8.,  1.,  0.,  0.,  5.,\n",
       "        16.,  9.,  1.,  0.,  0.,  0.,  0.,  8., 16., 16.,  9.,  0.,  0.,\n",
       "         0.,  0.,  2., 16., 10., 16.,  6.,  0.,  0.,  0.,  0., 11., 16.,\n",
       "        16.,  7.,  0.,  0.,  0.,  0.,  1.,  8., 13.,  0.,  0.,  0.],\n",
       "       [ 0.,  0.,  5., 12., 16., 15.,  0.,  0.,  0.,  3., 16.,  8.,  9.,\n",
       "        16.,  0.,  0.,  0.,  4., 16., 14., 16.,  7.,  0.,  0.,  0.,  5.,\n",
       "        16., 15.,  5.,  0.,  0.,  0.,  0.,  8., 15.,  6.,  0.,  0.,  0.,\n",
       "         0.,  0.,  4.,  8., 14.,  0.,  0.,  0.,  0.,  0.,  3., 10., 16.,\n",
       "         1.,  0.,  0.,  0.,  0.,  0.,  6., 15.,  2.,  0.,  0.,  0.],\n",
       "       [ 0.,  0.,  5., 12.,  8.,  0.,  1.,  0.,  0.,  0., 11., 16.,  5.,\n",
       "        13.,  6.,  0.,  0.,  0.,  2., 15., 16., 12.,  1.,  0.,  0.,  0.,\n",
       "         0., 10., 16.,  6.,  0.,  0.,  0.,  0.,  1., 15., 16.,  7.,  0.,\n",
       "         0.,  0.,  0.,  8., 16., 16., 11.,  0.,  0.,  0.,  0., 11., 16.,\n",
       "        16.,  9.,  0.,  0.,  0.,  0.,  6., 12., 12.,  3.,  0.,  0.],\n",
       "       [ 0.,  0.,  7., 12., 13.,  4.,  0.,  0.,  0.,  0., 16.,  6.,  6.,\n",
       "         2.,  0.,  0.,  0.,  4., 13.,  7.,  8.,  2.,  0.,  0.,  0.,  7.,\n",
       "        16., 10., 10., 14.,  1.,  0.,  0.,  2.,  2.,  0.,  0., 10.,  6.,\n",
       "         0.,  0.,  0.,  0.,  0.,  0.,  8.,  8.,  0.,  0.,  0., 11.,  1.,\n",
       "         0., 10.,  8.,  0.,  0.,  0.,  8., 15., 15., 15.,  2.,  0.],\n",
       "       [ 0.,  0.,  1.,  9., 15., 10.,  1.,  0.,  0.,  0.,  2., 12.,  8.,\n",
       "        12.,  4.,  0.,  0.,  0.,  0., 11.,  1., 11.,  3.,  0.,  0.,  0.,\n",
       "         0.,  8.,  8., 15.,  4.,  0.,  0.,  2., 15., 16., 16.,  7.,  0.,\n",
       "         0.,  0.,  2., 15.,  5., 11.,  0.,  0.,  0.,  0.,  0., 14.,  4.,\n",
       "        12.,  0.,  0.,  0.,  0.,  0.,  3., 14.,  9.,  0.,  0.,  0.],\n",
       "       [ 0.,  0.,  5., 12., 16., 10.,  0.,  0.,  0.,  6., 16., 13.,  3.,\n",
       "        15.,  1.,  0.,  0., 11.,  8.,  5.,  5., 10.,  0.,  0.,  0.,  4.,\n",
       "        11.,  2., 12.,  2.,  0.,  0.,  0.,  0.,  6., 16.,  6.,  0.,  0.,\n",
       "         0.,  0.,  0.,  2., 15.,  8.,  0.,  0.,  0.,  0.,  0.,  8., 13.,\n",
       "         8.,  0.,  0.,  0.,  0.,  0.,  5., 15.,  4.,  0.,  0.,  0.],\n",
       "       [ 0.,  0.,  0.,  9., 15.,  6.,  0.,  0.,  0.,  0.,  5., 15., 16.,\n",
       "        15.,  0.,  0.,  0.,  0., 15., 15.,  4., 16.,  3.,  0.,  0.,  2.,\n",
       "        14.,  5.,  0., 12.,  8.,  0.,  0.,  6., 13.,  0.,  1., 14.,  6.,\n",
       "         0.,  0.,  1., 10., 14., 15., 16.,  3.,  0.,  0.,  0.,  3., 16.,\n",
       "        16., 14.,  1.,  0.,  0.,  0.,  0.,  9., 13.,  5.,  0.,  0.],\n",
       "       [ 0.,  0.,  0.,  8., 14., 14.,  2.,  0.,  0.,  0.,  0.,  6., 10.,\n",
       "        15., 11.,  0.,  0.,  0.,  0.,  0.,  0., 14., 10.,  0.,  0.,  2.,\n",
       "         8., 11., 12., 16.,  8.,  0.,  0.,  8., 16., 16., 16., 16.,  7.,\n",
       "         0.,  0.,  0.,  0.,  0., 11., 15.,  1.,  0.,  0.,  0.,  0.,  9.,\n",
       "        16.,  7.,  0.,  0.,  0.,  0.,  0., 12., 13.,  1.,  0.,  0.],\n",
       "       [ 0.,  0.,  0.,  9., 16., 10.,  0.,  0.,  0.,  0.,  1., 15.,  5.,\n",
       "        16.,  3.,  0.,  0.,  0., 13.,  4.,  0., 15.,  5.,  0.,  0.,  0.,\n",
       "        15., 11., 14., 16.,  2.,  0.,  0.,  8., 16., 16., 13.,  5.,  0.,\n",
       "         0.,  0.,  3., 15., 15.,  1.,  0.,  0.,  0.,  0.,  0.,  9., 16.,\n",
       "        10.,  0.,  0.,  0.,  0.,  0.,  0., 10., 15.,  0.,  0.,  0.]])"
      ]
     },
     "execution_count": 119,
     "metadata": {},
     "output_type": "execute_result"
    }
   ],
   "source": [
    "X_test[np.nonzero(ans)]"
   ]
  },
  {
   "cell_type": "code",
   "execution_count": 120,
   "id": "72b8a336",
   "metadata": {},
   "outputs": [],
   "source": [
    "# 시각화\n",
    "def show_ans(ans, X_test, y_pred, nrows, ncols, figsize):\n",
    "    _, axes = plt.subplots(nrows=nrows, ncols=ncols, figsize= figsize)\n",
    "    for ax, image, prediction in zip(axes, X_test[np.nonzero(ans)], y_pred[np.nonzero(ans)]):\n",
    "        ax.set_axis_off()\n",
    "        image = image.reshape(8, 8)\n",
    "        ax.imshow(image, cmap=plt.cm.gray_r, interpolation=\"nearest\") # 보간\n",
    "        ax.set_title(f\"Prediction: {prediction}\")"
   ]
  },
  {
   "cell_type": "code",
   "execution_count": 121,
   "id": "7c523c95",
   "metadata": {},
   "outputs": [
    {
     "data": {
      "image/png": "[encoded data removed]",
      "text/plain": [
       "<Figure size 864x432 with 5 Axes>"
      ]
     },
     "metadata": {
      "needs_background": "light"
     },
     "output_type": "display_data"
    }
   ],
   "source": [
    "# 충격적인 결과..!\n",
    "show_ans(ans, X_test, y_pred, 1, 5, (12, 6))"
   ]
  },
  {
   "cell_type": "code",
   "execution_count": 122,
   "id": "1ddc2e7c",
   "metadata": {},
   "outputs": [
    {
     "data": {
      "image/png": "[encoded data removed]",
      "text/plain": [
       "<Figure size 432x288 with 2 Axes>"
      ]
     },
     "metadata": {
      "needs_background": "light"
     },
     "output_type": "display_data"
    }
   ],
   "source": [
    "from sklearn import metrics\n",
    "\n",
    "disp = metrics.ConfusionMatrixDisplay.from_predictions(y_test, y_pred)\n",
    "disp.figure_.suptitle(\"Confusion Matrix\")\n",
    "#print(f\"Confusion matrix:\\n{disp.confusion_matrix}\")\n",
    "\n",
    "plt.show()"
   ]
  },
  {
   "cell_type": "markdown",
   "id": "1f23557a",
   "metadata": {},
   "source": [
    "#### RandomForest"
   ]
  },
  {
   "cell_type": "code",
   "execution_count": 130,
   "id": "6af6a332",
   "metadata": {},
   "outputs": [
    {
     "name": "stdout",
     "output_type": "stream",
     "text": [
      "              precision    recall  f1-score   support\n",
      "\n",
      "           0       1.00      0.98      0.99        43\n",
      "           1       0.93      1.00      0.97        42\n",
      "           2       1.00      1.00      1.00        40\n",
      "           3       1.00      1.00      1.00        34\n",
      "           4       0.93      1.00      0.96        37\n",
      "           5       0.90      0.96      0.93        28\n",
      "           6       1.00      0.96      0.98        28\n",
      "           7       0.94      0.97      0.96        33\n",
      "           8       1.00      0.84      0.91        43\n",
      "           9       0.94      0.94      0.94        32\n",
      "\n",
      "    accuracy                           0.96       360\n",
      "   macro avg       0.96      0.96      0.96       360\n",
      "weighted avg       0.97      0.96      0.96       360\n",
      "\n"
     ]
    }
   ],
   "source": [
    "from sklearn.ensemble import RandomForestClassifier \n",
    "\n",
    "random_forest = RandomForestClassifier(random_state=32)\n",
    "random_forest.fit(X_train, y_train) # 훈련\n",
    "y_pred = random_forest.predict(X_test) # 예측\n",
    "\n",
    "print(classification_report(y_test, y_pred)) # 결과 지표 확인"
   ]
  },
  {
   "cell_type": "code",
   "execution_count": 131,
   "id": "d0ee0480",
   "metadata": {},
   "outputs": [
    {
     "data": {
      "image/png": "[encoded data removed]",
      "text/plain": [
       "<Figure size 864x432 with 5 Axes>"
      ]
     },
     "metadata": {
      "needs_background": "light"
     },
     "output_type": "display_data"
    }
   ],
   "source": [
    "ans = y_pred - y_test\n",
    "show_ans(ans, X_test, y_pred, 1, 5, (12, 6))"
   ]
  },
  {
   "cell_type": "code",
   "execution_count": 132,
   "id": "2288d1a3",
   "metadata": {},
   "outputs": [
    {
     "data": {
      "image/png": "[encoded data removed]",
      "text/plain": [
       "<Figure size 432x288 with 2 Axes>"
      ]
     },
     "metadata": {
      "needs_background": "light"
     },
     "output_type": "display_data"
    }
   ],
   "source": [
    "from sklearn import metrics\n",
    "\n",
    "disp = metrics.ConfusionMatrixDisplay.from_predictions(y_test, y_pred)\n",
    "disp.figure_.suptitle(\"Confusion Matrix\")\n",
    "#print(f\"Confusion matrix:\\n{disp.confusion_matrix}\")\n",
    "\n",
    "plt.show()"
   ]
  },
  {
   "cell_type": "code",
   "execution_count": 133,
   "id": "1d44fa77",
   "metadata": {
    "scrolled": true
   },
   "outputs": [
    {
     "name": "stdout",
     "output_type": "stream",
     "text": [
      "classifier\n",
      "              precision    recall  f1-score   support\n",
      "\n",
      "           0       1.00      1.00      1.00        43\n",
      "           1       0.95      1.00      0.98        42\n",
      "           2       1.00      1.00      1.00        40\n",
      "           3       1.00      1.00      1.00        34\n",
      "           4       1.00      1.00      1.00        37\n",
      "           5       0.93      1.00      0.97        28\n",
      "           6       1.00      1.00      1.00        28\n",
      "           7       1.00      1.00      1.00        33\n",
      "           8       1.00      0.93      0.96        43\n",
      "           9       1.00      0.97      0.98        32\n",
      "\n",
      "    accuracy                           0.99       360\n",
      "   macro avg       0.99      0.99      0.99       360\n",
      "weighted avg       0.99      0.99      0.99       360\n",
      "\n"
     ]
    }
   ],
   "source": [
    "from sklearn import svm #Support Vector Machine을 사용하기 위해 import\n",
    "svm_model = svm.SVC(random_state = 32) # 모델 객체를 만든다.\n",
    "\n",
    "print(svm_model._estimator_type) # 모델 타입 확인\n",
    "\n",
    "svm_model.fit(X_train, y_train) # 훈련\n",
    "\n",
    "y_pred = svm_model.predict(X_test) # 예측\n",
    "\n",
    "print(classification_report(y_test, y_pred)) # 결과 지표 확인"
   ]
  },
  {
   "cell_type": "code",
   "execution_count": 135,
   "id": "f6c4fc91",
   "metadata": {},
   "outputs": [
    {
     "data": {
      "image/png": "[encoded data removed]",
      "text/plain": [
       "<Figure size 864x432 with 4 Axes>"
      ]
     },
     "metadata": {
      "needs_background": "light"
     },
     "output_type": "display_data"
    }
   ],
   "source": [
    "ans = y_pred - y_test\n",
    "show_ans(ans, X_test, y_pred, 1, 4, (12, 6))"
   ]
  },
  {
   "cell_type": "code",
   "execution_count": 136,
   "id": "ddfefc5c",
   "metadata": {},
   "outputs": [
    {
     "data": {
      "image/png": "[encoded data removed]",
      "text/plain": [
       "<Figure size 432x288 with 2 Axes>"
      ]
     },
     "metadata": {
      "needs_background": "light"
     },
     "output_type": "display_data"
    }
   ],
   "source": [
    "from sklearn import metrics\n",
    "\n",
    "disp = metrics.ConfusionMatrixDisplay.from_predictions(y_test, y_pred)\n",
    "disp.figure_.suptitle(\"Confusion Matrix\")\n",
    "#print(f\"Confusion matrix:\\n{disp.confusion_matrix}\")\n",
    "\n",
    "plt.show()"
   ]
  },
  {
   "cell_type": "code",
   "execution_count": 137,
   "id": "d5fac759",
   "metadata": {},
   "outputs": [
    {
     "name": "stdout",
     "output_type": "stream",
     "text": [
      "classifier\n",
      "              precision    recall  f1-score   support\n",
      "\n",
      "           0       1.00      1.00      1.00        43\n",
      "           1       0.85      0.95      0.90        42\n",
      "           2       0.98      1.00      0.99        40\n",
      "           3       0.89      0.94      0.91        34\n",
      "           4       1.00      0.97      0.99        37\n",
      "           5       0.93      1.00      0.97        28\n",
      "           6       0.96      0.93      0.95        28\n",
      "           7       0.97      0.97      0.97        33\n",
      "           8       0.88      0.88      0.88        43\n",
      "           9       0.96      0.72      0.82        32\n",
      "\n",
      "    accuracy                           0.94       360\n",
      "   macro avg       0.94      0.94      0.94       360\n",
      "weighted avg       0.94      0.94      0.94       360\n",
      "\n"
     ]
    }
   ],
   "source": [
    "from sklearn.linear_model import SGDClassifier #선형분류기인 SGDClassifier를 사용하기 위한 import\n",
    "sgd_model = SGDClassifier(random_state = 32) # 모델 객체 생성\n",
    "\n",
    "print(sgd_model._estimator_type) # 모델 타입 확인\n",
    "\n",
    "sgd_model.fit(X_train, y_train)\n",
    "\n",
    "y_pred = sgd_model.predict(X_test)\n",
    "\n",
    "print(classification_report(y_test, y_pred)) # 결과 지표를 확인"
   ]
  },
  {
   "cell_type": "code",
   "execution_count": 138,
   "id": "f931d258",
   "metadata": {},
   "outputs": [
    {
     "data": {
      "image/png": "[encoded data removed]",
      "text/plain": [
       "<Figure size 864x432 with 5 Axes>"
      ]
     },
     "metadata": {
      "needs_background": "light"
     },
     "output_type": "display_data"
    }
   ],
   "source": [
    "ans = y_pred - y_test\n",
    "show_ans(ans, X_test, y_pred, 1, 5, (12, 6))"
   ]
  },
  {
   "cell_type": "code",
   "execution_count": 139,
   "id": "71bb28f5",
   "metadata": {},
   "outputs": [
    {
     "data": {
      "image/png": "[encoded data removed]",
      "text/plain": [
       "<Figure size 432x288 with 2 Axes>"
      ]
     },
     "metadata": {
      "needs_background": "light"
     },
     "output_type": "display_data"
    }
   ],
   "source": [
    "from sklearn import metrics\n",
    "\n",
    "disp = metrics.ConfusionMatrixDisplay.from_predictions(y_test, y_pred)\n",
    "disp.figure_.suptitle(\"Confusion Matrix\")\n",
    "#print(f\"Confusion matrix:\\n{disp.confusion_matrix}\")\n",
    "\n",
    "plt.show()"
   ]
  },
  {
   "cell_type": "code",
   "execution_count": 140,
   "id": "63751f93",
   "metadata": {},
   "outputs": [
    {
     "name": "stdout",
     "output_type": "stream",
     "text": [
      "classifier\n",
      "              precision    recall  f1-score   support\n",
      "\n",
      "           0       1.00      1.00      1.00        43\n",
      "           1       0.95      0.95      0.95        42\n",
      "           2       0.98      1.00      0.99        40\n",
      "           3       0.94      0.97      0.96        34\n",
      "           4       1.00      1.00      1.00        37\n",
      "           5       0.79      0.96      0.87        28\n",
      "           6       1.00      0.96      0.98        28\n",
      "           7       0.94      0.97      0.96        33\n",
      "           8       0.92      0.81      0.86        43\n",
      "           9       0.97      0.88      0.92        32\n",
      "\n",
      "    accuracy                           0.95       360\n",
      "   macro avg       0.95      0.95      0.95       360\n",
      "weighted avg       0.95      0.95      0.95       360\n",
      "\n"
     ]
    }
   ],
   "source": [
    "from sklearn.linear_model import LogisticRegression # 선형분류기인 LogisticRegression를 사용하기 위한 import\n",
    "logistic_model = LogisticRegression(max_iter = 5000, random_state = 32) # 모델 객체 생성, max_iter 설정\n",
    "\n",
    "print(logistic_model._estimator_type) # 모델 타입 확인\n",
    "\n",
    "logistic_model.fit(X_train, y_train)\n",
    "\n",
    "y_pred = logistic_model.predict(X_test)\n",
    "\n",
    "print(classification_report(y_test, y_pred))"
   ]
  },
  {
   "cell_type": "code",
   "execution_count": 141,
   "id": "4c087339",
   "metadata": {},
   "outputs": [
    {
     "data": {
      "image/png": "[encoded data removed]",
      "text/plain": [
       "<Figure size 864x432 with 5 Axes>"
      ]
     },
     "metadata": {
      "needs_background": "light"
     },
     "output_type": "display_data"
    }
   ],
   "source": [
    "ans = y_pred - y_test\n",
    "show_ans(ans, X_test, y_pred, 1, 5, (12, 6))"
   ]
  },
  {
   "cell_type": "code",
   "execution_count": 142,
   "id": "a5928230",
   "metadata": {},
   "outputs": [
    {
     "data": {
      "image/png": "[encoded data removed]",
      "text/plain": [
       "<Figure size 432x288 with 2 Axes>"
      ]
     },
     "metadata": {
      "needs_background": "light"
     },
     "output_type": "display_data"
    }
   ],
   "source": [
    "from sklearn import metrics\n",
    "\n",
    "disp = metrics.ConfusionMatrixDisplay.from_predictions(y_test, y_pred)\n",
    "disp.figure_.suptitle(\"Confusion Matrix\")\n",
    "#print(f\"Confusion matrix:\\n{disp.confusion_matrix}\")\n",
    "\n",
    "plt.show()"
   ]
  },
  {
   "cell_type": "markdown",
   "id": "dc2238e8",
   "metadata": {},
   "source": [
    "## 단순 분석 결과 \n",
    "\n",
    "#### SVM > RF > LR > SGD > DT 순으로 정확도가 높음"
   ]
  },
  {
   "cell_type": "markdown",
   "id": "0993bd7d",
   "metadata": {},
   "source": [
    "## 2. Wine 데이터셋 분석"
   ]
  },
  {
   "cell_type": "code",
   "execution_count": 165,
   "id": "3fa75a05",
   "metadata": {},
   "outputs": [
    {
     "name": "stdout",
     "output_type": "stream",
     "text": [
      "(178, 13) (178,)\n",
      "train, test:  (142, 13) (36, 13)\n"
     ]
    }
   ],
   "source": [
    "# 1) 필요한 모듈 import\n",
    "# from sklearn.datasets import load_wine\n",
    "# from sklearn.model_selection import train_test_split \n",
    "# from sklearn.tree import DecisionTreeClassifier \n",
    "# from sklearn.metrics import classification_report\n",
    "# from sklearn.metrics import accuracy_score\n",
    "\n",
    "# 2) 데이터 준비\n",
    "wine = load_wine()\n",
    "wine_data = pd.DataFrame(wine.data)\n",
    "wine_data.columns = wine.feature_names\n",
    "wine_label = wine.target\n",
    "\n",
    "print(wine_data.shape, wine_label.shape) \n",
    "# 3) train, test 데이터 분리\n",
    "X_train, X_test, y_train, y_test = train_test_split(wine_data, \n",
    "                                                    wine_label, \n",
    "                                                    test_size=0.2, \n",
    "                                                    random_state=7) \n",
    "print('train, test: ', X_train.shape, X_test.shape)"
   ]
  },
  {
   "cell_type": "code",
   "execution_count": 167,
   "id": "94e4a559",
   "metadata": {},
   "outputs": [
    {
     "data": {
      "text/html": [
       "<div>\n",
       "<style scoped>\n",
       "    .dataframe tbody tr th:only-of-type {\n",
       "        vertical-align: middle;\n",
       "    }\n",
       "\n",
       "    .dataframe tbody tr th {\n",
       "        vertical-align: top;\n",
       "    }\n",
       "\n",
       "    .dataframe thead th {\n",
       "        text-align: right;\n",
       "    }\n",
       "</style>\n",
       "<table border=\"1\" class=\"dataframe\">\n",
       "  <thead>\n",
       "    <tr style=\"text-align: right;\">\n",
       "      <th></th>\n",
       "      <th>alcohol</th>\n",
       "      <th>malic_acid</th>\n",
       "      <th>ash</th>\n",
       "      <th>alcalinity_of_ash</th>\n",
       "      <th>magnesium</th>\n",
       "      <th>total_phenols</th>\n",
       "      <th>flavanoids</th>\n",
       "      <th>nonflavanoid_phenols</th>\n",
       "      <th>proanthocyanins</th>\n",
       "      <th>color_intensity</th>\n",
       "      <th>hue</th>\n",
       "      <th>od280/od315_of_diluted_wines</th>\n",
       "      <th>proline</th>\n",
       "    </tr>\n",
       "  </thead>\n",
       "  <tbody>\n",
       "    <tr>\n",
       "      <th>0</th>\n",
       "      <td>14.23</td>\n",
       "      <td>1.71</td>\n",
       "      <td>2.43</td>\n",
       "      <td>15.6</td>\n",
       "      <td>127.0</td>\n",
       "      <td>2.80</td>\n",
       "      <td>3.06</td>\n",
       "      <td>0.28</td>\n",
       "      <td>2.29</td>\n",
       "      <td>5.64</td>\n",
       "      <td>1.04</td>\n",
       "      <td>3.92</td>\n",
       "      <td>1065.0</td>\n",
       "    </tr>\n",
       "    <tr>\n",
       "      <th>1</th>\n",
       "      <td>13.20</td>\n",
       "      <td>1.78</td>\n",
       "      <td>2.14</td>\n",
       "      <td>11.2</td>\n",
       "      <td>100.0</td>\n",
       "      <td>2.65</td>\n",
       "      <td>2.76</td>\n",
       "      <td>0.26</td>\n",
       "      <td>1.28</td>\n",
       "      <td>4.38</td>\n",
       "      <td>1.05</td>\n",
       "      <td>3.40</td>\n",
       "      <td>1050.0</td>\n",
       "    </tr>\n",
       "    <tr>\n",
       "      <th>2</th>\n",
       "      <td>13.16</td>\n",
       "      <td>2.36</td>\n",
       "      <td>2.67</td>\n",
       "      <td>18.6</td>\n",
       "      <td>101.0</td>\n",
       "      <td>2.80</td>\n",
       "      <td>3.24</td>\n",
       "      <td>0.30</td>\n",
       "      <td>2.81</td>\n",
       "      <td>5.68</td>\n",
       "      <td>1.03</td>\n",
       "      <td>3.17</td>\n",
       "      <td>1185.0</td>\n",
       "    </tr>\n",
       "    <tr>\n",
       "      <th>3</th>\n",
       "      <td>14.37</td>\n",
       "      <td>1.95</td>\n",
       "      <td>2.50</td>\n",
       "      <td>16.8</td>\n",
       "      <td>113.0</td>\n",
       "      <td>3.85</td>\n",
       "      <td>3.49</td>\n",
       "      <td>0.24</td>\n",
       "      <td>2.18</td>\n",
       "      <td>7.80</td>\n",
       "      <td>0.86</td>\n",
       "      <td>3.45</td>\n",
       "      <td>1480.0</td>\n",
       "    </tr>\n",
       "    <tr>\n",
       "      <th>4</th>\n",
       "      <td>13.24</td>\n",
       "      <td>2.59</td>\n",
       "      <td>2.87</td>\n",
       "      <td>21.0</td>\n",
       "      <td>118.0</td>\n",
       "      <td>2.80</td>\n",
       "      <td>2.69</td>\n",
       "      <td>0.39</td>\n",
       "      <td>1.82</td>\n",
       "      <td>4.32</td>\n",
       "      <td>1.04</td>\n",
       "      <td>2.93</td>\n",
       "      <td>735.0</td>\n",
       "    </tr>\n",
       "  </tbody>\n",
       "</table>\n",
       "</div>"
      ],
      "text/plain": [
       "   alcohol  malic_acid   ash  alcalinity_of_ash  magnesium  total_phenols  \\\n",
       "0    14.23        1.71  2.43               15.6      127.0           2.80   \n",
       "1    13.20        1.78  2.14               11.2      100.0           2.65   \n",
       "2    13.16        2.36  2.67               18.6      101.0           2.80   \n",
       "3    14.37        1.95  2.50               16.8      113.0           3.85   \n",
       "4    13.24        2.59  2.87               21.0      118.0           2.80   \n",
       "\n",
       "   flavanoids  nonflavanoid_phenols  proanthocyanins  color_intensity   hue  \\\n",
       "0        3.06                  0.28             2.29             5.64  1.04   \n",
       "1        2.76                  0.26             1.28             4.38  1.05   \n",
       "2        3.24                  0.30             2.81             5.68  1.03   \n",
       "3        3.49                  0.24             2.18             7.80  0.86   \n",
       "4        2.69                  0.39             1.82             4.32  1.04   \n",
       "\n",
       "   od280/od315_of_diluted_wines  proline  \n",
       "0                          3.92   1065.0  \n",
       "1                          3.40   1050.0  \n",
       "2                          3.17   1185.0  \n",
       "3                          3.45   1480.0  \n",
       "4                          2.93    735.0  "
      ]
     },
     "execution_count": 167,
     "metadata": {},
     "output_type": "execute_result"
    }
   ],
   "source": [
    "wine_data.head()"
   ]
  },
  {
   "cell_type": "code",
   "execution_count": 175,
   "id": "2b1bf85d",
   "metadata": {},
   "outputs": [
    {
     "data": {
      "text/plain": [
       "<seaborn.matrix.ClusterGrid at 0x7ff71a3e0610>"
      ]
     },
     "execution_count": 175,
     "metadata": {},
     "output_type": "execute_result"
    },
    {
     "data": {
      "image/png": "[encoded data removed]",
      "text/plain": [
       "<Figure size 720x720 with 4 Axes>"
      ]
     },
     "metadata": {
      "needs_background": "light"
     },
     "output_type": "display_data"
    }
   ],
   "source": [
    "import seaborn as sns\n",
    "cor_wine = wine_data.corr()\n",
    "sns.clustermap(cor_wine, \n",
    "               annot = True,      # 실제 값 화면에 나타내기\n",
    "               cmap = 'RdYlBu_r',  # Red, Yellow, Blue 색상으로 표시\n",
    "               vmin = -1, vmax = 1, #컬러차트 -1 ~ 1 범위로 표시\n",
    "              )"
   ]
  },
  {
   "cell_type": "code",
   "execution_count": null,
   "id": "5e668439",
   "metadata": {},
   "outputs": [],
   "source": []
  },
  {
   "cell_type": "code",
   "execution_count": 145,
   "id": "71ea9915",
   "metadata": {},
   "outputs": [
    {
     "data": {
      "text/plain": [
       "array([0, 1, 2])"
      ]
     },
     "execution_count": 145,
     "metadata": {},
     "output_type": "execute_result"
    }
   ],
   "source": [
    "np.unique(wine_label)"
   ]
  },
  {
   "cell_type": "code",
   "execution_count": 144,
   "id": "ed1abb60",
   "metadata": {},
   "outputs": [
    {
     "name": "stdout",
     "output_type": "stream",
     "text": [
      "              precision    recall  f1-score   support\n",
      "\n",
      "           0       1.00      1.00      1.00         7\n",
      "           1       0.89      1.00      0.94        17\n",
      "           2       1.00      0.83      0.91        12\n",
      "\n",
      "    accuracy                           0.94        36\n",
      "   macro avg       0.96      0.94      0.95        36\n",
      "weighted avg       0.95      0.94      0.94        36\n",
      "\n"
     ]
    }
   ],
   "source": [
    "# 4) 모델 학습 및 예측 - Decision Tree\n",
    "decision_tree = DecisionTreeClassifier(random_state=32)\n",
    "decision_tree.fit(X_train, y_train) # 훈련\n",
    "y_pred = decision_tree.predict(X_test) # 예측\n",
    "\n",
    "print(classification_report(y_test, y_pred)) # 결과 지표 확인"
   ]
  },
  {
   "cell_type": "code",
   "execution_count": 159,
   "id": "bd59f7f8",
   "metadata": {},
   "outputs": [
    {
     "name": "stdout",
     "output_type": "stream",
     "text": [
      "              precision    recall  f1-score   support\n",
      "\n",
      "           0       1.00      1.00      1.00         7\n",
      "           1       1.00      1.00      1.00        17\n",
      "           2       1.00      1.00      1.00        12\n",
      "\n",
      "    accuracy                           1.00        36\n",
      "   macro avg       1.00      1.00      1.00        36\n",
      "weighted avg       1.00      1.00      1.00        36\n",
      "\n"
     ]
    }
   ],
   "source": [
    "# 4) 모델 학습 및 예측 - Random Forests\n",
    "random_forest = RandomForestClassifier(random_state=32)\n",
    "random_forest.fit(X_train, y_train) # 훈련\n",
    "y_pred = random_forest.predict(X_test) # 예측\n",
    "\n",
    "print(classification_report(y_test, y_pred)) # 결과 지표 확인"
   ]
  },
  {
   "cell_type": "code",
   "execution_count": 155,
   "id": "54048ca0",
   "metadata": {},
   "outputs": [
    {
     "name": "stdout",
     "output_type": "stream",
     "text": [
      "              precision    recall  f1-score   support\n",
      "\n",
      "           0       0.86      0.86      0.86         7\n",
      "           1       0.58      0.88      0.70        17\n",
      "           2       0.33      0.08      0.13        12\n",
      "\n",
      "    accuracy                           0.61        36\n",
      "   macro avg       0.59      0.61      0.56        36\n",
      "weighted avg       0.55      0.61      0.54        36\n",
      "\n"
     ]
    }
   ],
   "source": [
    "# 4) 모델 학습 및 예측 - SVM\n",
    "svm_model = svm.SVC(random_state = 32) # 모델 객체 생성\n",
    "svm_model.fit(X_train, y_train) # 훈련\n",
    "y_pred = svm_model.predict(X_test) # 예측\n",
    "\n",
    "print(classification_report(y_test, y_pred)) # 결과 지표 확인"
   ]
  },
  {
   "cell_type": "code",
   "execution_count": 176,
   "id": "872c83f6",
   "metadata": {},
   "outputs": [
    {
     "name": "stdout",
     "output_type": "stream",
     "text": [
      "              precision    recall  f1-score   support\n",
      "\n",
      "           0       0.54      1.00      0.70         7\n",
      "           1       0.65      0.88      0.75        17\n",
      "           2       0.00      0.00      0.00        12\n",
      "\n",
      "    accuracy                           0.61        36\n",
      "   macro avg       0.40      0.63      0.48        36\n",
      "weighted avg       0.41      0.61      0.49        36\n",
      "\n"
     ]
    },
    {
     "name": "stderr",
     "output_type": "stream",
     "text": [
      "/opt/conda/lib/python3.9/site-packages/sklearn/metrics/_classification.py:1308: UndefinedMetricWarning: Precision and F-score are ill-defined and being set to 0.0 in labels with no predicted samples. Use `zero_division` parameter to control this behavior.\n",
      "  _warn_prf(average, modifier, msg_start, len(result))\n",
      "/opt/conda/lib/python3.9/site-packages/sklearn/metrics/_classification.py:1308: UndefinedMetricWarning: Precision and F-score are ill-defined and being set to 0.0 in labels with no predicted samples. Use `zero_division` parameter to control this behavior.\n",
      "  _warn_prf(average, modifier, msg_start, len(result))\n",
      "/opt/conda/lib/python3.9/site-packages/sklearn/metrics/_classification.py:1308: UndefinedMetricWarning: Precision and F-score are ill-defined and being set to 0.0 in labels with no predicted samples. Use `zero_division` parameter to control this behavior.\n",
      "  _warn_prf(average, modifier, msg_start, len(result))\n"
     ]
    }
   ],
   "source": [
    "# 4) 모델 학습 및 예측 - SGD Classifier - zero division 발생\n",
    "sgd_model = SGDClassifier() # 모델 객체 생성\n",
    "sgd_model.fit(X_train, y_train) # 훈련\n",
    "y_pred = sgd_model.predict(X_test) # 예측\n",
    "\n",
    "print(classification_report(y_test, y_pred)) # 결과 지표 확인"
   ]
  },
  {
   "cell_type": "code",
   "execution_count": 177,
   "id": "e59ec56e",
   "metadata": {},
   "outputs": [
    {
     "name": "stdout",
     "output_type": "stream",
     "text": [
      "              precision    recall  f1-score   support\n",
      "\n",
      "           0       1.00      1.00      1.00         7\n",
      "           1       0.94      1.00      0.97        17\n",
      "           2       1.00      0.92      0.96        12\n",
      "\n",
      "    accuracy                           0.97        36\n",
      "   macro avg       0.98      0.97      0.98        36\n",
      "weighted avg       0.97      0.97      0.97        36\n",
      "\n"
     ]
    }
   ],
   "source": [
    "# 4) 모델 학습 및 예측 - Logistic 회귀\n",
    "logistic_model = LogisticRegression(max_iter = 5000, random_state = 32) # 모델 객체 생성, max_iter 설정\n",
    "logistic_model.fit(X_train, y_train)\n",
    "y_pred = logistic_model.predict(X_test)\n",
    "\n",
    "print(classification_report(y_test, y_pred))"
   ]
  },
  {
   "cell_type": "markdown",
   "id": "618c3c7b",
   "metadata": {},
   "source": [
    "## 3. Cancer 데이터셋 분석 "
   ]
  },
  {
   "cell_type": "code",
   "execution_count": 178,
   "id": "41b599c5",
   "metadata": {},
   "outputs": [],
   "source": [
    "# 1) 필요한 모듈 import\n",
    "# from sklearn.datasets import load_breast_cancer\n",
    "# from sklearn.model_selection import train_test_split \n",
    "# from sklearn.tree import DecisionTreeClassifier \n",
    "# from sklearn.metrics import classification_report\n",
    "# from sklearn.metrics import accuracy_score\n",
    "\n",
    "# 2) 데이터 준비\n",
    "cancer = load_breast_cancer()\n",
    "cancer_data = cancer.data\n",
    "cancer_label = cancer.target\n",
    "\n",
    "# 3) train, test 데이터 분리\n",
    "#train_test_split()를 사용하여 X값, y값을 각각 train data와 test data로 나눈다. 함수에 들어 갈 파라미터로는 x,y가 들어가고\n",
    "#test_size는 몇대몇으로 나눌지 정하는 옵션, random_state는 랜덤 패턴의 값을 지정한다. (어떤 값을 넣어도 무방하다.)\n",
    "X_train, X_test, y_train, y_test = train_test_split(cancer_data, \n",
    "                                                    cancer_label, \n",
    "                                                    test_size=0.2, \n",
    "                                                    random_state=7) "
   ]
  },
  {
   "cell_type": "code",
   "execution_count": 179,
   "id": "0ad9dc65",
   "metadata": {},
   "outputs": [
    {
     "data": {
      "text/html": [
       "<div>\n",
       "<style scoped>\n",
       "    .dataframe tbody tr th:only-of-type {\n",
       "        vertical-align: middle;\n",
       "    }\n",
       "\n",
       "    .dataframe tbody tr th {\n",
       "        vertical-align: top;\n",
       "    }\n",
       "\n",
       "    .dataframe thead th {\n",
       "        text-align: right;\n",
       "    }\n",
       "</style>\n",
       "<table border=\"1\" class=\"dataframe\">\n",
       "  <thead>\n",
       "    <tr style=\"text-align: right;\">\n",
       "      <th></th>\n",
       "      <th>0</th>\n",
       "      <th>1</th>\n",
       "      <th>2</th>\n",
       "      <th>3</th>\n",
       "      <th>4</th>\n",
       "      <th>5</th>\n",
       "      <th>6</th>\n",
       "      <th>7</th>\n",
       "      <th>8</th>\n",
       "      <th>9</th>\n",
       "      <th>...</th>\n",
       "      <th>20</th>\n",
       "      <th>21</th>\n",
       "      <th>22</th>\n",
       "      <th>23</th>\n",
       "      <th>24</th>\n",
       "      <th>25</th>\n",
       "      <th>26</th>\n",
       "      <th>27</th>\n",
       "      <th>28</th>\n",
       "      <th>29</th>\n",
       "    </tr>\n",
       "  </thead>\n",
       "  <tbody>\n",
       "    <tr>\n",
       "      <th>count</th>\n",
       "      <td>569.000000</td>\n",
       "      <td>569.000000</td>\n",
       "      <td>569.000000</td>\n",
       "      <td>569.000000</td>\n",
       "      <td>569.000000</td>\n",
       "      <td>569.000000</td>\n",
       "      <td>569.000000</td>\n",
       "      <td>569.000000</td>\n",
       "      <td>569.000000</td>\n",
       "      <td>569.000000</td>\n",
       "      <td>...</td>\n",
       "      <td>569.000000</td>\n",
       "      <td>569.000000</td>\n",
       "      <td>569.000000</td>\n",
       "      <td>569.000000</td>\n",
       "      <td>569.000000</td>\n",
       "      <td>569.000000</td>\n",
       "      <td>569.000000</td>\n",
       "      <td>569.000000</td>\n",
       "      <td>569.000000</td>\n",
       "      <td>569.000000</td>\n",
       "    </tr>\n",
       "    <tr>\n",
       "      <th>mean</th>\n",
       "      <td>14.127292</td>\n",
       "      <td>19.289649</td>\n",
       "      <td>91.969033</td>\n",
       "      <td>654.889104</td>\n",
       "      <td>0.096360</td>\n",
       "      <td>0.104341</td>\n",
       "      <td>0.088799</td>\n",
       "      <td>0.048919</td>\n",
       "      <td>0.181162</td>\n",
       "      <td>0.062798</td>\n",
       "      <td>...</td>\n",
       "      <td>16.269190</td>\n",
       "      <td>25.677223</td>\n",
       "      <td>107.261213</td>\n",
       "      <td>880.583128</td>\n",
       "      <td>0.132369</td>\n",
       "      <td>0.254265</td>\n",
       "      <td>0.272188</td>\n",
       "      <td>0.114606</td>\n",
       "      <td>0.290076</td>\n",
       "      <td>0.083946</td>\n",
       "    </tr>\n",
       "    <tr>\n",
       "      <th>std</th>\n",
       "      <td>3.524049</td>\n",
       "      <td>4.301036</td>\n",
       "      <td>24.298981</td>\n",
       "      <td>351.914129</td>\n",
       "      <td>0.014064</td>\n",
       "      <td>0.052813</td>\n",
       "      <td>0.079720</td>\n",
       "      <td>0.038803</td>\n",
       "      <td>0.027414</td>\n",
       "      <td>0.007060</td>\n",
       "      <td>...</td>\n",
       "      <td>4.833242</td>\n",
       "      <td>6.146258</td>\n",
       "      <td>33.602542</td>\n",
       "      <td>569.356993</td>\n",
       "      <td>0.022832</td>\n",
       "      <td>0.157336</td>\n",
       "      <td>0.208624</td>\n",
       "      <td>0.065732</td>\n",
       "      <td>0.061867</td>\n",
       "      <td>0.018061</td>\n",
       "    </tr>\n",
       "    <tr>\n",
       "      <th>min</th>\n",
       "      <td>6.981000</td>\n",
       "      <td>9.710000</td>\n",
       "      <td>43.790000</td>\n",
       "      <td>143.500000</td>\n",
       "      <td>0.052630</td>\n",
       "      <td>0.019380</td>\n",
       "      <td>0.000000</td>\n",
       "      <td>0.000000</td>\n",
       "      <td>0.106000</td>\n",
       "      <td>0.049960</td>\n",
       "      <td>...</td>\n",
       "      <td>7.930000</td>\n",
       "      <td>12.020000</td>\n",
       "      <td>50.410000</td>\n",
       "      <td>185.200000</td>\n",
       "      <td>0.071170</td>\n",
       "      <td>0.027290</td>\n",
       "      <td>0.000000</td>\n",
       "      <td>0.000000</td>\n",
       "      <td>0.156500</td>\n",
       "      <td>0.055040</td>\n",
       "    </tr>\n",
       "    <tr>\n",
       "      <th>25%</th>\n",
       "      <td>11.700000</td>\n",
       "      <td>16.170000</td>\n",
       "      <td>75.170000</td>\n",
       "      <td>420.300000</td>\n",
       "      <td>0.086370</td>\n",
       "      <td>0.064920</td>\n",
       "      <td>0.029560</td>\n",
       "      <td>0.020310</td>\n",
       "      <td>0.161900</td>\n",
       "      <td>0.057700</td>\n",
       "      <td>...</td>\n",
       "      <td>13.010000</td>\n",
       "      <td>21.080000</td>\n",
       "      <td>84.110000</td>\n",
       "      <td>515.300000</td>\n",
       "      <td>0.116600</td>\n",
       "      <td>0.147200</td>\n",
       "      <td>0.114500</td>\n",
       "      <td>0.064930</td>\n",
       "      <td>0.250400</td>\n",
       "      <td>0.071460</td>\n",
       "    </tr>\n",
       "    <tr>\n",
       "      <th>50%</th>\n",
       "      <td>13.370000</td>\n",
       "      <td>18.840000</td>\n",
       "      <td>86.240000</td>\n",
       "      <td>551.100000</td>\n",
       "      <td>0.095870</td>\n",
       "      <td>0.092630</td>\n",
       "      <td>0.061540</td>\n",
       "      <td>0.033500</td>\n",
       "      <td>0.179200</td>\n",
       "      <td>0.061540</td>\n",
       "      <td>...</td>\n",
       "      <td>14.970000</td>\n",
       "      <td>25.410000</td>\n",
       "      <td>97.660000</td>\n",
       "      <td>686.500000</td>\n",
       "      <td>0.131300</td>\n",
       "      <td>0.211900</td>\n",
       "      <td>0.226700</td>\n",
       "      <td>0.099930</td>\n",
       "      <td>0.282200</td>\n",
       "      <td>0.080040</td>\n",
       "    </tr>\n",
       "    <tr>\n",
       "      <th>75%</th>\n",
       "      <td>15.780000</td>\n",
       "      <td>21.800000</td>\n",
       "      <td>104.100000</td>\n",
       "      <td>782.700000</td>\n",
       "      <td>0.105300</td>\n",
       "      <td>0.130400</td>\n",
       "      <td>0.130700</td>\n",
       "      <td>0.074000</td>\n",
       "      <td>0.195700</td>\n",
       "      <td>0.066120</td>\n",
       "      <td>...</td>\n",
       "      <td>18.790000</td>\n",
       "      <td>29.720000</td>\n",
       "      <td>125.400000</td>\n",
       "      <td>1084.000000</td>\n",
       "      <td>0.146000</td>\n",
       "      <td>0.339100</td>\n",
       "      <td>0.382900</td>\n",
       "      <td>0.161400</td>\n",
       "      <td>0.317900</td>\n",
       "      <td>0.092080</td>\n",
       "    </tr>\n",
       "    <tr>\n",
       "      <th>max</th>\n",
       "      <td>28.110000</td>\n",
       "      <td>39.280000</td>\n",
       "      <td>188.500000</td>\n",
       "      <td>2501.000000</td>\n",
       "      <td>0.163400</td>\n",
       "      <td>0.345400</td>\n",
       "      <td>0.426800</td>\n",
       "      <td>0.201200</td>\n",
       "      <td>0.304000</td>\n",
       "      <td>0.097440</td>\n",
       "      <td>...</td>\n",
       "      <td>36.040000</td>\n",
       "      <td>49.540000</td>\n",
       "      <td>251.200000</td>\n",
       "      <td>4254.000000</td>\n",
       "      <td>0.222600</td>\n",
       "      <td>1.058000</td>\n",
       "      <td>1.252000</td>\n",
       "      <td>0.291000</td>\n",
       "      <td>0.663800</td>\n",
       "      <td>0.207500</td>\n",
       "    </tr>\n",
       "  </tbody>\n",
       "</table>\n",
       "<p>8 rows × 30 columns</p>\n",
       "</div>"
      ],
      "text/plain": [
       "               0           1           2            3           4   \\\n",
       "count  569.000000  569.000000  569.000000   569.000000  569.000000   \n",
       "mean    14.127292   19.289649   91.969033   654.889104    0.096360   \n",
       "std      3.524049    4.301036   24.298981   351.914129    0.014064   \n",
       "min      6.981000    9.710000   43.790000   143.500000    0.052630   \n",
       "25%     11.700000   16.170000   75.170000   420.300000    0.086370   \n",
       "50%     13.370000   18.840000   86.240000   551.100000    0.095870   \n",
       "75%     15.780000   21.800000  104.100000   782.700000    0.105300   \n",
       "max     28.110000   39.280000  188.500000  2501.000000    0.163400   \n",
       "\n",
       "               5           6           7           8           9   ...  \\\n",
       "count  569.000000  569.000000  569.000000  569.000000  569.000000  ...   \n",
       "mean     0.104341    0.088799    0.048919    0.181162    0.062798  ...   \n",
       "std      0.052813    0.079720    0.038803    0.027414    0.007060  ...   \n",
       "min      0.019380    0.000000    0.000000    0.106000    0.049960  ...   \n",
       "25%      0.064920    0.029560    0.020310    0.161900    0.057700  ...   \n",
       "50%      0.092630    0.061540    0.033500    0.179200    0.061540  ...   \n",
       "75%      0.130400    0.130700    0.074000    0.195700    0.066120  ...   \n",
       "max      0.345400    0.426800    0.201200    0.304000    0.097440  ...   \n",
       "\n",
       "               20          21          22           23          24  \\\n",
       "count  569.000000  569.000000  569.000000   569.000000  569.000000   \n",
       "mean    16.269190   25.677223  107.261213   880.583128    0.132369   \n",
       "std      4.833242    6.146258   33.602542   569.356993    0.022832   \n",
       "min      7.930000   12.020000   50.410000   185.200000    0.071170   \n",
       "25%     13.010000   21.080000   84.110000   515.300000    0.116600   \n",
       "50%     14.970000   25.410000   97.660000   686.500000    0.131300   \n",
       "75%     18.790000   29.720000  125.400000  1084.000000    0.146000   \n",
       "max     36.040000   49.540000  251.200000  4254.000000    0.222600   \n",
       "\n",
       "               25          26          27          28          29  \n",
       "count  569.000000  569.000000  569.000000  569.000000  569.000000  \n",
       "mean     0.254265    0.272188    0.114606    0.290076    0.083946  \n",
       "std      0.157336    0.208624    0.065732    0.061867    0.018061  \n",
       "min      0.027290    0.000000    0.000000    0.156500    0.055040  \n",
       "25%      0.147200    0.114500    0.064930    0.250400    0.071460  \n",
       "50%      0.211900    0.226700    0.099930    0.282200    0.080040  \n",
       "75%      0.339100    0.382900    0.161400    0.317900    0.092080  \n",
       "max      1.058000    1.252000    0.291000    0.663800    0.207500  \n",
       "\n",
       "[8 rows x 30 columns]"
      ]
     },
     "execution_count": 179,
     "metadata": {},
     "output_type": "execute_result"
    }
   ],
   "source": [
    "pd.DataFrame(cancer.data).describe()"
   ]
  },
  {
   "cell_type": "code",
   "execution_count": 180,
   "id": "1527b51b",
   "metadata": {},
   "outputs": [
    {
     "name": "stdout",
     "output_type": "stream",
     "text": [
      "              precision    recall  f1-score   support\n",
      "\n",
      "           0       0.92      0.82      0.87        40\n",
      "           1       0.91      0.96      0.93        74\n",
      "\n",
      "    accuracy                           0.91       114\n",
      "   macro avg       0.91      0.89      0.90       114\n",
      "weighted avg       0.91      0.91      0.91       114\n",
      "\n"
     ]
    }
   ],
   "source": [
    "# 4) 모델 학습 및 예측 - Decision Tree\n",
    "decision_tree = DecisionTreeClassifier(random_state=32)\n",
    "decision_tree.fit(X_train, y_train) # 훈련\n",
    "y_pred = decision_tree.predict(X_test) # 예측\n",
    "\n",
    "print(classification_report(y_test, y_pred)) # 결과 지표 확인"
   ]
  },
  {
   "cell_type": "code",
   "execution_count": 181,
   "id": "069bc9e2",
   "metadata": {},
   "outputs": [
    {
     "name": "stdout",
     "output_type": "stream",
     "text": [
      "              precision    recall  f1-score   support\n",
      "\n",
      "           0       1.00      1.00      1.00        40\n",
      "           1       1.00      1.00      1.00        74\n",
      "\n",
      "    accuracy                           1.00       114\n",
      "   macro avg       1.00      1.00      1.00       114\n",
      "weighted avg       1.00      1.00      1.00       114\n",
      "\n"
     ]
    }
   ],
   "source": [
    "# 4) 모델 학습 및 예측 - Random Forests\n",
    "random_forest = RandomForestClassifier(random_state=32)\n",
    "random_forest.fit(X_train, y_train) # 훈련\n",
    "y_pred = random_forest.predict(X_test) # 예측\n",
    "\n",
    "print(classification_report(y_test, y_pred)) # 결과 지표 확인"
   ]
  },
  {
   "cell_type": "code",
   "execution_count": 182,
   "id": "b3430c76",
   "metadata": {},
   "outputs": [
    {
     "name": "stdout",
     "output_type": "stream",
     "text": [
      "              precision    recall  f1-score   support\n",
      "\n",
      "           0       1.00      0.72      0.84        40\n",
      "           1       0.87      1.00      0.93        74\n",
      "\n",
      "    accuracy                           0.90       114\n",
      "   macro avg       0.94      0.86      0.89       114\n",
      "weighted avg       0.92      0.90      0.90       114\n",
      "\n"
     ]
    }
   ],
   "source": [
    "# 4) 모델 학습 및 예측 - SVM\n",
    "svm_model = svm.SVC(random_state=32) # 모델 객체 생성\n",
    "svm_model.fit(X_train, y_train) # 훈련\n",
    "y_pred = svm_model.predict(X_test) # 예측\n",
    "\n",
    "print(classification_report(y_test, y_pred)) # 결과 지표 확인"
   ]
  },
  {
   "cell_type": "code",
   "execution_count": 183,
   "id": "dcf4abcb",
   "metadata": {},
   "outputs": [
    {
     "name": "stdout",
     "output_type": "stream",
     "text": [
      "              precision    recall  f1-score   support\n",
      "\n",
      "           0       1.00      0.70      0.82        40\n",
      "           1       0.86      1.00      0.92        74\n",
      "\n",
      "    accuracy                           0.89       114\n",
      "   macro avg       0.93      0.85      0.87       114\n",
      "weighted avg       0.91      0.89      0.89       114\n",
      "\n"
     ]
    }
   ],
   "source": [
    "# 4) 모델 학습 및 예측 - SGD Classifier - zero division 발생\n",
    "sgd_model = SGDClassifier(random_state=32) # 모델 객체 생성\n",
    "sgd_model.fit(X_train, y_train) # 훈련\n",
    "y_pred = sgd_model.predict(X_test) # 예측\n",
    "\n",
    "print(classification_report(y_test, y_pred)) # 결과 지표 확인"
   ]
  },
  {
   "cell_type": "code",
   "execution_count": 184,
   "id": "a68b4f08",
   "metadata": {},
   "outputs": [
    {
     "name": "stdout",
     "output_type": "stream",
     "text": [
      "              precision    recall  f1-score   support\n",
      "\n",
      "           0       1.00      0.85      0.92        40\n",
      "           1       0.93      1.00      0.96        74\n",
      "\n",
      "    accuracy                           0.95       114\n",
      "   macro avg       0.96      0.93      0.94       114\n",
      "weighted avg       0.95      0.95      0.95       114\n",
      "\n"
     ]
    }
   ],
   "source": [
    "# 4) 모델 학습 및 예측 - Logistic 회귀\n",
    "logistic_model = LogisticRegression(max_iter = 5000,random_state=32) # 모델 객체 생성, max_iter 설정\n",
    "logistic_model.fit(X_train, y_train)\n",
    "y_pred = logistic_model.predict(X_test)\n",
    "\n",
    "print(classification_report(y_test, y_pred))"
   ]
  },
  {
   "cell_type": "markdown",
   "id": "46528533",
   "metadata": {},
   "source": [
    "![nn](./assets/goal.jpeg)"
   ]
  }
 ],
 "metadata": {
  "kernelspec": {
   "display_name": "Python 3 (ipykernel)",
   "language": "python",
   "name": "python3"
  },
  "language_info": {
   "codemirror_mode": {
    "name": "ipython",
    "version": 3
   },
   "file_extension": ".py",
   "mimetype": "text/x-python",
   "name": "python",
   "nbconvert_exporter": "python",
   "pygments_lexer": "ipython3",
   "version": "3.9.7"
  }
 },
 "nbformat": 4,
 "nbformat_minor": 5
}
