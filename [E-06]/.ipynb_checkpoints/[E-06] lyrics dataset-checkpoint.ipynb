{
 "cells": [
  {
   "cell_type": "code",
   "execution_count": 25,
   "id": "0303d1b9",
   "metadata": {},
   "outputs": [
    {
     "name": "stdout",
     "output_type": "stream",
     "text": [
      "['First Citizen:', 'Before we proceed any further, hear me speak.', '', 'All:', 'Speak, speak.', '', 'First Citizen:', 'You are all resolved rather to die than to famish?', '']\n"
     ]
    }
   ],
   "source": [
    "# os: Operating System의 줄임말로, 운영체제에서 제공되는 여러 기능을 파이썬에서 사용할 수 있도록 함 (Ex. 디렉토리 경로 이동, 시스템 환경 변수 가져오기 등)\n",
    "# re: Regular Expression의 줄임말로, 파이썬 정규표현식을 사용하기 위한 모듈\n",
    "# numpy(NumPy): 행렬이나 대규모 다차원 배열을 쉽게 처리할 수 있도록 지원하는 라이브러리. 데이터 구조 외에도 수치 계산을 위해 효율적으로 구현된 기능을 제공\n",
    "# tensorflow(TensorFlow): 데이터 흐름 프로그래밍을 위한 라이브러리. 데이터 그래프를 수치적으로 연산하기 위해 구글에서 만든 오픈 소스 라이브러리.\n",
    "import os, re \n",
    "import numpy as np\n",
    "import tensorflow as tf\n",
    "\n",
    "# os 모듈에 있는 getenv() 함수를 이용하여 읽고싶은 파일의 경로를 file_path에 저장\n",
    "# 파일을 읽기모드로 열고\n",
    "# 라인 단위로 끊어서 list 형태로 읽어옵니다.\n",
    "file_path = os.getenv('HOME') + '/aiffel/lyricist/data/shakespeare.txt'\n",
    "with open(file_path, \"r\") as f:\n",
    "    raw_corpus = f.read().splitlines()\n",
    "\n",
    "# 앞에서부터 10라인만 화면에 출력해 볼까요?\n",
    "print(raw_corpus[:9])"
   ]
  },
  {
   "cell_type": "code",
   "execution_count": 26,
   "id": "81b38808",
   "metadata": {},
   "outputs": [
    {
     "name": "stdout",
     "output_type": "stream",
     "text": [
      "Before we proceed any further, hear me speak.\n",
      "Speak, speak.\n",
      "You are all resolved rather to die than to famish?\n"
     ]
    }
   ],
   "source": [
    "# enumerate() 함수를 이용하여 raw_corpus list 내에 저장된 문장과 그 문장의 인덱스를 반환 (인덱스, 문장 순)\n",
    "for idx, sentence in enumerate(raw_corpus):\n",
    "    if len(sentence) == 0: continue   # 길이가 0인 문장은 건너뜁니다.\n",
    "    if sentence[-1] == \":\": continue  # 문장의 끝이 : 인 문장은 건너뜁니다.\n",
    "\n",
    "    if idx > 9: break   # 일단 문장 10개만 확인해 볼 겁니다.\n",
    "        \n",
    "    print(sentence)"
   ]
  },
  {
   "cell_type": "code",
   "execution_count": 27,
   "id": "3c104fe7",
   "metadata": {},
   "outputs": [
    {
     "name": "stdout",
     "output_type": "stream",
     "text": [
      "<start> this is sample sentence . <end>\n"
     ]
    }
   ],
   "source": [
    "# 입력된 문장을\n",
    "#     1. 소문자로 바꾸고, 양쪽 공백을 지웁니다\n",
    "#     2. 특수문자 양쪽에 공백을 넣고\n",
    "#     3. 여러개의 공백은 하나의 공백으로 바꿉니다\n",
    "#     4. a-zA-Z?.!,¿가 아닌 모든 문자를 하나의 공백으로 바꿉니다\n",
    "#     5. 다시 양쪽 공백을 지웁니다\n",
    "#     6. 문장 시작에는 <start>, 끝에는 <end>를 추가합니다\n",
    "# 이 순서로 처리해주면 문제가 되는 상황을 방지할 수 있겠네요!\n",
    "def preprocess_sentence(sentence):\n",
    "    sentence = sentence.lower().strip() # 1\n",
    "    sentence = re.sub(r\"([?.!,¿])\", r\" \\1 \", sentence) # 2\n",
    "    sentence = re.sub(r'[\" \"]+', \" \", sentence) # 3\n",
    "    sentence = re.sub(r\"[^a-zA-Z?.!,¿]+\", \" \", sentence) # 4\n",
    "    sentence = sentence.strip() # 5\n",
    "    sentence = '<start> ' + sentence + ' <end>' # 6\n",
    "    return sentence\n",
    "\n",
    "# 이 문장이 어떻게 필터링되는지 확인해 보세요.\n",
    "print(preprocess_sentence(\"This @_is ;;;sample        sentence.\"))"
   ]
  },
  {
   "cell_type": "code",
   "execution_count": 28,
   "id": "60d6e88f",
   "metadata": {},
   "outputs": [
    {
     "data": {
      "text/plain": [
       "['<start> before we proceed any further , hear me speak . <end>',\n",
       " '<start> speak , speak . <end>',\n",
       " '<start> you are all resolved rather to die than to famish ? <end>',\n",
       " '<start> resolved . resolved . <end>',\n",
       " '<start> first , you know caius marcius is chief enemy to the people . <end>',\n",
       " '<start> we know t , we know t . <end>',\n",
       " '<start> let us kill him , and we ll have corn at our own price . <end>',\n",
       " '<start> is t a verdict ? <end>',\n",
       " '<start> no more talking on t let it be done away , away ! <end>',\n",
       " '<start> one word , good citizens . <end>']"
      ]
     },
     "execution_count": 28,
     "metadata": {},
     "output_type": "execute_result"
    }
   ],
   "source": [
    "# 여기에 정제된 문장을 모을겁니다\n",
    "corpus = []\n",
    "\n",
    "# raw_corpus list에 저장된 문장들을 순서대로 반환하여 sentence에 저장\n",
    "for sentence in raw_corpus:\n",
    "    # 우리가 원하지 않는 문장은 건너뜁니다\n",
    "    if len(sentence) == 0: continue\n",
    "    if sentence[-1] == \":\": continue\n",
    "    \n",
    "    # 앞서 구현한 preprocess_sentence() 함수를 이용하여 문장을 정제를 하고 담아주세요\n",
    "    preprocessed_sentence = preprocess_sentence(sentence)\n",
    "    corpus.append(preprocessed_sentence)\n",
    "        \n",
    "# 정제된 결과를 10개만 확인해보죠\n",
    "corpus[:10]"
   ]
  },
  {
   "cell_type": "code",
   "execution_count": 59,
   "id": "fdd7ea17",
   "metadata": {},
   "outputs": [
    {
     "name": "stdout",
     "output_type": "stream",
     "text": [
      "[[   2  522  404 ...    0    0    0]\n",
      " [   2  265   44 ...    0    0    0]\n",
      " [   2   29    3 ...    0    0    0]\n",
      " ...\n",
      " [   2 1825  698 ...    0    0    0]\n",
      " [   2 1826    3 ...    0    0    0]\n",
      " [   2   40   23 ...    0    0    0]] <keras_preprocessing.text.Tokenizer object at 0x7f57623df1f0>\n"
     ]
    }
   ],
   "source": [
    "# 토큰화 할 때 텐서플로우의 Tokenizer와 pad_sequences를 사용합니다\n",
    "# 더 잘 알기 위해 아래 문서들을 참고하면 좋습니다\n",
    "# https://www.tensorflow.org/api_docs/python/tf/keras/preprocessing/text/Tokenizer\n",
    "# https://www.tensorflow.org/api_docs/python/tf/keras/preprocessing/sequence/pad_sequences\n",
    "def tokenize(corpus, num_words = 7000):\n",
    "    # 7000단어를 기억할 수 있는 tokenizer를 만들겁니다\n",
    "    # 우리는 이미 문장을 정제했으니 filters가 필요없어요\n",
    "    # 7000단어에 포함되지 못한 단어는 '<unk>'로 바꿀거에요\n",
    "    tokenizer = tf.keras.preprocessing.text.Tokenizer(\n",
    "        num_words=num_words, \n",
    "        filters=' ',\n",
    "        oov_token=\"<unk>\"\n",
    "    )\n",
    "    # corpus를 이용해 tokenizer 내부의 단어장을 완성합니다\n",
    "    # tokenizer.fit_on_texts(texts): 문자 데이터를 입력받아 리스트의 형태로 변환하는 메서드\n",
    "    tokenizer.fit_on_texts(corpus)\n",
    "    # 준비한 tokenizer를 이용해 corpus를 Tensor로 변환합니다\n",
    "    # tokenizer.texts_to_sequences(texts): 텍스트 안의 단어들을 숫자의 시퀀스 형태로 변환하는 메서드\n",
    "    tensor = tokenizer.texts_to_sequences(corpus)   \n",
    "    # 입력 데이터의 시퀀스 길이를 일정하게 맞춰줍니다\n",
    "    # 만약 시퀀스가 짧다면 문장 뒤에 패딩을 붙여 길이를 맞춰줍니다.\n",
    "    # 문장 앞에 패딩을 붙여 길이를 맞추고 싶다면 padding='pre'를 사용합니다\n",
    "    tensor = tf.keras.preprocessing.sequence.pad_sequences(tensor, padding='post',maxlen=20)  \n",
    "    \n",
    "    print(tensor,tokenizer)\n",
    "    return tensor, tokenizer\n",
    "\n",
    "tensor, tokenizer = tokenize(corpus)"
   ]
  },
  {
   "cell_type": "code",
   "execution_count": 30,
   "id": "ed4eeb5d",
   "metadata": {},
   "outputs": [
    {
     "name": "stdout",
     "output_type": "stream",
     "text": [
      "[[   2  143   40  933  140  591    4  124   24  110]\n",
      " [   2  110    4  110    5    3    0    0    0    0]\n",
      " [   2   11   50   43 1201  316    9  201   74    9]]\n"
     ]
    }
   ],
   "source": [
    "print(tensor[:3, :10])"
   ]
  },
  {
   "cell_type": "code",
   "execution_count": 31,
   "id": "c978d200",
   "metadata": {},
   "outputs": [
    {
     "name": "stdout",
     "output_type": "stream",
     "text": [
      "1 : <unk>\n",
      "2 : <start>\n",
      "3 : <end>\n",
      "4 : ,\n",
      "5 : .\n",
      "6 : the\n",
      "7 : and\n",
      "8 : i\n",
      "9 : to\n",
      "10 : of\n"
     ]
    }
   ],
   "source": [
    "# tokenizer.index_word: 현재 계산된 단어의 인덱스와 인덱스에 해당하는 단어를 dictionary 형대로 반환 (Ex. {index: '~~', index: '~~', ...})\n",
    "for idx in tokenizer.index_word:\n",
    "    print(idx, \":\", tokenizer.index_word[idx])\n",
    "\n",
    "    if idx >= 10: break"
   ]
  },
  {
   "cell_type": "code",
   "execution_count": 32,
   "id": "5bae956e",
   "metadata": {},
   "outputs": [
    {
     "name": "stdout",
     "output_type": "stream",
     "text": [
      "[  2 143  40 933 140 591   4 124  24 110   5   3   0   0   0   0   0   0\n",
      "   0]\n",
      "[143  40 933 140 591   4 124  24 110   5   3   0   0   0   0   0   0   0\n",
      "   0]\n"
     ]
    }
   ],
   "source": [
    "# tensor에서 마지막 토큰을 잘라내서 소스 문장을 생성합니다\n",
    "# 마지막 토큰은 <end>가 아니라 <pad>일 가능성이 높습니다.\n",
    "src_input = tensor[:, :-1]  \n",
    "# tensor에서 <start>를 잘라내서 타겟 문장을 생성합니다.\n",
    "tgt_input = tensor[:, 1:]    \n",
    "\n",
    "print(src_input[0])\n",
    "print(tgt_input[0])"
   ]
  },
  {
   "cell_type": "code",
   "execution_count": 33,
   "id": "f5d21b35",
   "metadata": {},
   "outputs": [
    {
     "data": {
      "text/plain": [
       "<BatchDataset shapes: ((256, 19), (256, 19)), types: (tf.int32, tf.int32)>"
      ]
     },
     "execution_count": 33,
     "metadata": {},
     "output_type": "execute_result"
    }
   ],
   "source": [
    "BUFFER_SIZE = len(src_input)\n",
    "BATCH_SIZE = 256\n",
    "steps_per_epoch = len(src_input) // BATCH_SIZE\n",
    "\n",
    " # tokenizer가 구축한 단어사전 내 7000개와, 여기 포함되지 않은 0:<pad>를 포함하여 7001개\n",
    " # tokenizer.num_words: 주어진 데이터의 문장들에서 빈도수가 높은 n개의 단어만 선택\n",
    " # tokenize() 함수에서 num_words를 7000개로 선언했기 때문에, tokenizer.num_words의 값은 7000\n",
    "VOCAB_SIZE = tokenizer.num_words + 1   \n",
    "\n",
    "# 준비한 데이터 소스로부터 데이터셋을 만듭니다\n",
    "# 데이터셋에 대해서는 아래 문서를 참고하세요\n",
    "# 자세히 알아둘수록 도움이 많이 되는 중요한 문서입니다\n",
    "# https://www.tensorflow.org/api_docs/python/tf/data/Dataset\n",
    "dataset = tf.data.Dataset.from_tensor_slices((src_input, tgt_input))\n",
    "dataset = dataset.shuffle(BUFFER_SIZE)\n",
    "dataset = dataset.batch(BATCH_SIZE, drop_remainder=True)\n",
    "dataset"
   ]
  },
  {
   "cell_type": "code",
   "execution_count": 34,
   "id": "d813a2fc",
   "metadata": {},
   "outputs": [],
   "source": [
    "class TextGenerator(tf.keras.Model):\n",
    "    def __init__(self, vocab_size, embedding_size, hidden_size):\n",
    "        super().__init__()\n",
    "        # Embedding 레이어, 2개의 LSTM 레이어, 1개의 Dense 레이어로 구성되어 있다.\n",
    "        # Embedding 레이어는 단어 사전의 인덱스 값을 해당 인덱스 번째의 워드 벡터로 바꿔준다.\n",
    "        # 이 워드 벡터는 의미 벡터 공간에서 단어의 추상적 표현으로 사용된다. \n",
    "        self.embedding = tf.keras.layers.Embedding(vocab_size, embedding_size) \n",
    "        self.rnn_1 = tf.keras.layers.LSTM(hidden_size, return_sequences=True)  \n",
    "        self.rnn_2 = tf.keras.layers.LSTM(hidden_size, return_sequences=True)\n",
    "        self.linear = tf.keras.layers.Dense(vocab_size)\n",
    "        \n",
    "    def call(self, x):\n",
    "        out = self.embedding(x)\n",
    "        out = self.rnn_1(out)\n",
    "        out = self.rnn_2(out)\n",
    "        out = self.linear(out)\n",
    "        \n",
    "        return out\n",
    "# embedding size 값이 커질수록 단어의 추상적인 특징들을 더 잡아낼 수 있지만\n",
    "# 그만큼 충분한 데이터가 없으면 안좋은 결과 값을 가져옵니다!   \n",
    "embedding_size = 256 # 워드 벡터의 차원수를 말하며 단어가 추상적으로 표현되는 크기입니다.\n",
    "hidden_size = 1024 # 모델에 얼마나 많은 일꾼을 둘 것인가? 정도로 이해하면 좋다.\n",
    "model = TextGenerator(tokenizer.num_words + 1, embedding_size , hidden_size) # tokenizer.num_words에 +1인 이유는 문장에 없는 pad가 사용되었기 때문이다."
   ]
  },
  {
   "cell_type": "code",
   "execution_count": 35,
   "id": "31d5cf74",
   "metadata": {
    "scrolled": true
   },
   "outputs": [
    {
     "data": {
      "text/plain": [
       "<tf.Tensor: shape=(256, 19, 7001), dtype=float32, numpy=\n",
       "array([[[ 1.1967376e-04, -2.7000287e-04,  1.3086109e-05, ...,\n",
       "          2.6349015e-05, -2.8169685e-05, -4.3645300e-04],\n",
       "        [-1.1931749e-04, -4.3082258e-04, -3.4438467e-04, ...,\n",
       "          1.2412992e-04,  2.3202649e-04, -6.7550631e-04],\n",
       "        [-2.8515066e-04, -3.6083654e-04, -3.6036517e-04, ...,\n",
       "          6.0696382e-04,  2.1326749e-04, -9.1163919e-04],\n",
       "        ...,\n",
       "        [ 1.2640152e-03,  1.3386204e-03,  9.7804132e-04, ...,\n",
       "          1.4004351e-03,  1.7288710e-03,  5.0866278e-04],\n",
       "        [ 1.5651276e-03,  2.0661603e-03,  5.8737327e-04, ...,\n",
       "          1.0981209e-03,  1.9785126e-03,  5.5014231e-04],\n",
       "        [ 1.8451198e-03,  2.7555821e-03,  2.3798122e-04, ...,\n",
       "          8.2536926e-04,  2.1303813e-03,  5.6051696e-04]],\n",
       "\n",
       "       [[ 1.1967376e-04, -2.7000287e-04,  1.3086109e-05, ...,\n",
       "          2.6349015e-05, -2.8169685e-05, -4.3645300e-04],\n",
       "        [-2.8571683e-05, -2.8670745e-04,  3.2937501e-04, ...,\n",
       "          3.0406355e-04, -2.6557432e-04, -9.5171930e-04],\n",
       "        [ 7.3931202e-05, -3.0845852e-04,  7.5616670e-04, ...,\n",
       "          6.9005834e-04, -1.5063697e-04, -1.1549008e-03],\n",
       "        ...,\n",
       "        [ 1.7772915e-03,  4.1668504e-03, -1.2473701e-03, ...,\n",
       "          3.7625272e-04,  1.8516949e-03, -3.7133216e-04],\n",
       "        [ 1.9945232e-03,  4.5963251e-03, -1.3964002e-03, ...,\n",
       "          2.4038026e-04,  1.9032069e-03, -3.6080292e-04],\n",
       "        [ 2.1991353e-03,  4.9773185e-03, -1.5081416e-03, ...,\n",
       "          1.2313548e-04,  1.9087893e-03, -3.5413145e-04]],\n",
       "\n",
       "       [[ 1.1967376e-04, -2.7000287e-04,  1.3086109e-05, ...,\n",
       "          2.6349015e-05, -2.8169685e-05, -4.3645300e-04],\n",
       "        [ 2.1860850e-04, -1.5798125e-04,  2.4579064e-04, ...,\n",
       "          1.3638174e-04, -1.3238251e-04, -4.6002908e-04],\n",
       "        [ 4.6003130e-04, -2.9154765e-04,  3.8154106e-04, ...,\n",
       "          1.2223942e-04, -4.8795418e-04, -5.5950735e-04],\n",
       "        ...,\n",
       "        [ 2.3011896e-03,  9.2519744e-04, -8.7733677e-04, ...,\n",
       "         -1.5664796e-04, -1.7519858e-04, -2.1753868e-03],\n",
       "        [ 2.4486571e-03,  1.6926345e-03, -1.1925169e-03, ...,\n",
       "         -2.8788825e-04,  2.0811959e-04, -1.9194632e-03],\n",
       "        [ 2.5822599e-03,  2.4224904e-03, -1.4390402e-03, ...,\n",
       "         -4.0019650e-04,  5.2065781e-04, -1.6608260e-03]],\n",
       "\n",
       "       ...,\n",
       "\n",
       "       [[ 1.1967376e-04, -2.7000287e-04,  1.3086109e-05, ...,\n",
       "          2.6349015e-05, -2.8169685e-05, -4.3645300e-04],\n",
       "        [-1.5291376e-05, -4.3970099e-04, -7.8956342e-05, ...,\n",
       "         -2.0647244e-04,  3.2074100e-04, -1.0140842e-03],\n",
       "        [-3.2308022e-04, -1.9232513e-04,  1.3102508e-04, ...,\n",
       "          8.0192527e-05,  5.6299457e-04, -1.2997044e-03],\n",
       "        ...,\n",
       "        [ 1.4774039e-03,  4.6798885e-03, -8.7811169e-04, ...,\n",
       "         -2.0425454e-04,  2.3733978e-03, -5.7433400e-04],\n",
       "        [ 1.7842235e-03,  5.1161121e-03, -1.0694843e-03, ...,\n",
       "         -2.5485232e-04,  2.2932100e-03, -5.2738562e-04],\n",
       "        [ 2.0608711e-03,  5.4848827e-03, -1.2253302e-03, ...,\n",
       "         -2.8653641e-04,  2.1974090e-03, -4.9532083e-04]],\n",
       "\n",
       "       [[ 1.1967376e-04, -2.7000287e-04,  1.3086109e-05, ...,\n",
       "          2.6349015e-05, -2.8169685e-05, -4.3645300e-04],\n",
       "        [ 3.1786371e-04, -3.1188462e-04,  2.8173049e-04, ...,\n",
       "          1.2243533e-04,  2.4606887e-04, -3.4292036e-04],\n",
       "        [ 1.8044723e-04, -3.4038402e-04,  6.1011349e-04, ...,\n",
       "          2.0719803e-04,  3.6852653e-04, -3.3679875e-04],\n",
       "        ...,\n",
       "        [ 1.3031132e-03,  1.2833996e-04,  8.9189224e-04, ...,\n",
       "         -1.7034394e-05,  1.9843075e-03,  9.3531280e-06],\n",
       "        [ 1.5196237e-03,  1.0325856e-03,  5.1045022e-04, ...,\n",
       "         -1.4186636e-04,  2.1797998e-03,  6.7837937e-05],\n",
       "        [ 1.7430218e-03,  1.9106608e-03,  1.7091999e-04, ...,\n",
       "         -2.5410697e-04,  2.3085207e-03,  9.9692188e-05]],\n",
       "\n",
       "       [[ 1.1967376e-04, -2.7000287e-04,  1.3086109e-05, ...,\n",
       "          2.6349015e-05, -2.8169685e-05, -4.3645300e-04],\n",
       "        [ 5.1197553e-06, -2.8004727e-04, -6.4008593e-05, ...,\n",
       "          3.8304695e-04, -8.4282590e-05, -4.7154460e-04],\n",
       "        [-2.0452795e-04, -2.0243513e-04, -2.2332121e-04, ...,\n",
       "          8.1401499e-04, -9.9841418e-05, -2.4151902e-04],\n",
       "        ...,\n",
       "        [ 1.0956066e-03,  3.9136703e-03, -1.0125064e-03, ...,\n",
       "          9.1207185e-05,  1.7948867e-03, -1.0840424e-03],\n",
       "        [ 1.4147576e-03,  4.4306894e-03, -1.0696643e-03, ...,\n",
       "         -3.3851775e-05,  1.8653085e-03, -9.8033331e-04],\n",
       "        [ 1.7091678e-03,  4.8797489e-03, -1.1231672e-03, ...,\n",
       "         -1.3079583e-04,  1.8897454e-03, -8.8642159e-04]]], dtype=float32)>"
      ]
     },
     "execution_count": 35,
     "metadata": {},
     "output_type": "execute_result"
    }
   ],
   "source": [
    "# 데이터셋에서 데이터 한 배치만 불러오는 방법입니다.\n",
    "# 지금은 동작 원리에 너무 빠져들지 마세요~\n",
    "for src_sample, tgt_sample in dataset.take(1): break\n",
    "\n",
    "# 한 배치만 불러온 데이터를 모델에 넣어봅니다\n",
    "model(src_sample)"
   ]
  },
  {
   "cell_type": "code",
   "execution_count": 36,
   "id": "8248ce64",
   "metadata": {
    "scrolled": true
   },
   "outputs": [
    {
     "name": "stdout",
     "output_type": "stream",
     "text": [
      "Model: \"text_generator_1\"\n",
      "_________________________________________________________________\n",
      "Layer (type)                 Output Shape              Param #   \n",
      "=================================================================\n",
      "embedding_1 (Embedding)      multiple                  1792256   \n",
      "_________________________________________________________________\n",
      "lstm_2 (LSTM)                multiple                  5246976   \n",
      "_________________________________________________________________\n",
      "lstm_3 (LSTM)                multiple                  8392704   \n",
      "_________________________________________________________________\n",
      "dense_1 (Dense)              multiple                  7176025   \n",
      "=================================================================\n",
      "Total params: 22,607,961\n",
      "Trainable params: 22,607,961\n",
      "Non-trainable params: 0\n",
      "_________________________________________________________________\n"
     ]
    }
   ],
   "source": [
    "# 모델의 구조를 확인합니다.\n",
    "model.summary()"
   ]
  },
  {
   "cell_type": "code",
   "execution_count": 37,
   "id": "de55f747",
   "metadata": {},
   "outputs": [
    {
     "name": "stdout",
     "output_type": "stream",
     "text": [
      "Epoch 1/30\n",
      "93/93 [==============================] - 20s 198ms/step - loss: 3.6130\n",
      "Epoch 2/30\n",
      "93/93 [==============================] - 18s 193ms/step - loss: 2.9405\n",
      "Epoch 3/30\n",
      "93/93 [==============================] - 17s 184ms/step - loss: 2.8161\n",
      "Epoch 4/30\n",
      "93/93 [==============================] - 17s 182ms/step - loss: 2.7148\n",
      "Epoch 5/30\n",
      "93/93 [==============================] - 17s 187ms/step - loss: 2.6524\n",
      "Epoch 6/30\n",
      "93/93 [==============================] - 18s 191ms/step - loss: 2.5942\n",
      "Epoch 7/30\n",
      "93/93 [==============================] - 18s 190ms/step - loss: 2.5287\n",
      "Epoch 8/30\n",
      "93/93 [==============================] - 17s 187ms/step - loss: 2.4668\n",
      "Epoch 9/30\n",
      "93/93 [==============================] - 17s 186ms/step - loss: 2.4078\n",
      "Epoch 10/30\n",
      "93/93 [==============================] - 18s 188ms/step - loss: 2.3511\n",
      "Epoch 11/30\n",
      "93/93 [==============================] - 18s 190ms/step - loss: 2.2921\n",
      "Epoch 12/30\n",
      "93/93 [==============================] - 18s 189ms/step - loss: 2.2359\n",
      "Epoch 13/30\n",
      "93/93 [==============================] - 17s 188ms/step - loss: 2.1809\n",
      "Epoch 14/30\n",
      "93/93 [==============================] - 17s 188ms/step - loss: 2.1232\n",
      "Epoch 15/30\n",
      "93/93 [==============================] - 18s 189ms/step - loss: 2.0660\n",
      "Epoch 16/30\n",
      "93/93 [==============================] - 18s 189ms/step - loss: 2.0068\n",
      "Epoch 17/30\n",
      "93/93 [==============================] - 18s 189ms/step - loss: 1.9494\n",
      "Epoch 18/30\n",
      "93/93 [==============================] - 18s 189ms/step - loss: 1.8907\n",
      "Epoch 19/30\n",
      "93/93 [==============================] - 18s 189ms/step - loss: 1.8302\n",
      "Epoch 20/30\n",
      "93/93 [==============================] - 18s 189ms/step - loss: 1.7719\n",
      "Epoch 21/30\n",
      "93/93 [==============================] - 18s 189ms/step - loss: 1.7125\n",
      "Epoch 22/30\n",
      "93/93 [==============================] - 18s 189ms/step - loss: 1.6517\n",
      "Epoch 23/30\n",
      "93/93 [==============================] - 18s 189ms/step - loss: 1.5926\n",
      "Epoch 24/30\n",
      "93/93 [==============================] - 18s 189ms/step - loss: 1.5316\n",
      "Epoch 25/30\n",
      "93/93 [==============================] - 17s 188ms/step - loss: 1.4701\n",
      "Epoch 26/30\n",
      "93/93 [==============================] - 17s 188ms/step - loss: 1.4071\n",
      "Epoch 27/30\n",
      "93/93 [==============================] - 18s 190ms/step - loss: 1.3455\n",
      "Epoch 28/30\n",
      "93/93 [==============================] - 18s 190ms/step - loss: 1.2818\n",
      "Epoch 29/30\n",
      "93/93 [==============================] - 18s 188ms/step - loss: 1.2186\n",
      "Epoch 30/30\n",
      "93/93 [==============================] - 17s 188ms/step - loss: 1.1561\n"
     ]
    },
    {
     "data": {
      "text/plain": [
       "<keras.callbacks.History at 0x7f5628f1a340>"
      ]
     },
     "execution_count": 37,
     "metadata": {},
     "output_type": "execute_result"
    }
   ],
   "source": [
    "# optimizer와 loss등은 차차 배웁니다\n",
    "# 혹시 미리 알고 싶다면 아래 문서를 참고하세요\n",
    "# https://www.tensorflow.org/api_docs/python/tf/keras/optimizers\n",
    "# https://www.tensorflow.org/api_docs/python/tf/keras/losses\n",
    "# 양이 상당히 많은 편이니 지금 보는 것은 추천하지 않습니다\n",
    "\n",
    "# Adam 알고리즘을 구현하는 optimzier이며 어떤 optimzier를 써야할지 모른다면 Adam을 쓰는 것도 방법이다.\n",
    "# 우리가 학습을 할 때 최대한 틀리지 않는 방향으로 학습을 해야한다.\n",
    "# 여기서 얼마나 틀리는지(loss)를 알게하는 함수가 손실함수 이다.\n",
    "# 이 손실함수의 최소값을 찾는 것을 학습의 목표로 하며 여기서 최소값을 찾아가는 과정을 optimization 이라하고\n",
    "# 이를 수행하는 알고리즘을 optimizer(최적화)라고 한다.\n",
    "\n",
    "optimizer = tf.keras.optimizers.Adam() # Adam은 현재 가장 많이 사용하는 옵티마이저이다. 자세한 내용은 차차 배운다.\n",
    "loss = tf.keras.losses.SparseCategoricalCrossentropy( # 훈련 데이터의 라벨이 정수의 형태로 제공될 때 사용하는 손실함수이다.\n",
    "    from_logits=True, # 기본값은 False이다. 모델에 의해 생성된 출력 값이 정규화되지 않았음을 손실 함수에 알려준다. 즉 softmax함수가 적용되지 않았다는걸 의미한다. \n",
    "    reduction='none'  # 기본값은 SUM이다. 각자 나오는 값의 반환 원할 때 None을 사용한다.\n",
    ")\n",
    "# 모델을 학습시키키 위한 학습과정을 설정하는 단계이다.\n",
    "model.compile(loss=loss, optimizer=optimizer) # 손실함수와 훈련과정을 설정했다.\n",
    "model.fit(dataset, epochs=30) # 만들어둔 데이터셋으로 모델을 학습한다. 30번 학습을 반복하겠다는 의미다."
   ]
  },
  {
   "cell_type": "code",
   "execution_count": 38,
   "id": "f7efd4e6",
   "metadata": {},
   "outputs": [],
   "source": [
    "#문장생성 함수 정의\n",
    "#모델에게 시작 문장을 전달하면 모델이 시작 문장을 바탕으로 작문을 진행\n",
    "def generate_text(model, tokenizer, init_sentence=\"<start>\", max_len=20): #시작 문자열을 init_sentence 로 받으며 디폴트값은 <start> 를 받는다\n",
    "    # 테스트를 위해서 입력받은 init_sentence도 텐서로 변환합니다\n",
    "    test_input = tokenizer.texts_to_sequences([init_sentence]) #텍스트 안의 단어들을 숫자의 시퀀스의 형태로 변환\n",
    "    test_tensor = tf.convert_to_tensor(test_input, dtype=tf.int64)\n",
    "    end_token = tokenizer.word_index[\"<end>\"]\n",
    "\n",
    "    # 단어 하나씩 예측해 문장을 만듭니다\n",
    "    #    1. 입력받은 문장의 텐서를 입력합니다\n",
    "    #    2. 예측된 값 중 가장 높은 확률인 word index를 뽑아냅니다\n",
    "    #    3. 2에서 예측된 word index를 문장 뒤에 붙입니다\n",
    "    #    4. 모델이 <end>를 예측했거나, max_len에 도달했다면 문장 생성을 마칩니다 (도달 하지 못하였으면 while 루프를 돌면서 다음 단어를 예측)\n",
    "    while True: #루프를 돌면서 init_sentence에 단어를 하나씩 생성성\n",
    "        # 1\n",
    "        predict = model(test_tensor) \n",
    "        # 2\n",
    "        predict_word = tf.argmax(tf.nn.softmax(predict, axis=-1), axis=-1)[:, -1] \n",
    "        # 3 \n",
    "        test_tensor = tf.concat([test_tensor, tf.expand_dims(predict_word, axis=0)], axis=-1)\n",
    "        # 4 \n",
    "        if predict_word.numpy()[0] == end_token: break\n",
    "        if test_tensor.shape[1] >= max_len: break\n",
    "\n",
    "    generated = \"\"\n",
    "    # tokenizer를 이용해 word index를 단어로 하나씩 변환합니다 \n",
    "    for word_index in test_tensor[0].numpy():\n",
    "        generated += tokenizer.index_word[word_index] + \" \"\n",
    "\n",
    "    return generated #최종적으로 모델이 생성한 문장을 반환"
   ]
  },
  {
   "cell_type": "code",
   "execution_count": 39,
   "id": "be3921fe",
   "metadata": {
    "scrolled": true
   },
   "outputs": [
    {
     "data": {
      "text/plain": [
       "'<start> he is a kinsman , and i abide to be so <end> '"
      ]
     },
     "execution_count": 39,
     "metadata": {},
     "output_type": "execute_result"
    }
   ],
   "source": [
    "generate_text(model, tokenizer, init_sentence=\"<start> he\") # 시작문장으로 he를 넣어 문장생성 함수 실행"
   ]
  },
  {
   "cell_type": "markdown",
   "id": "3f271276",
   "metadata": {},
   "source": [
    "### 직접 가사 생성해보기"
   ]
  },
  {
   "cell_type": "markdown",
   "id": "ff9f7b51",
   "metadata": {},
   "source": [
    "### Step 1, 2. 데이터 읽어오기\n",
    "- glob 모듈을 사용하면 파일을 읽어오는 작업을 하기가 아주 용이해요. glob 를 활용하여 모든 txt 파일을 읽어온 후, raw_corpus 리스트에 문장 단위로 저장하도록 할게요!"
   ]
  },
  {
   "cell_type": "code",
   "execution_count": 91,
   "id": "2fe8800a",
   "metadata": {},
   "outputs": [
    {
     "name": "stdout",
     "output_type": "stream",
     "text": [
      "2.6.0\n"
     ]
    }
   ],
   "source": [
    "import glob  #glob 모듈의 glob 함수는 사용자가 제시한 조건에 맞는 파일명을 리스트 형식으로 반환한다\n",
    "import tensorflow\n",
    "\n",
    "print(tensorflow.__version__)"
   ]
  },
  {
   "cell_type": "code",
   "execution_count": 92,
   "id": "44bf881c",
   "metadata": {},
   "outputs": [
    {
     "name": "stdout",
     "output_type": "stream",
     "text": [
      "데이터 크기: 187088\n",
      "Examples:\n",
      " ['', '', '[Spoken Intro:]']\n"
     ]
    }
   ],
   "source": [
    "import glob\n",
    "import os\n",
    "\n",
    "txt_file_path = os.getenv('HOME')+'/aiffel/lyricist/data/lyrics/*' #os.getenv(x)함수는 환경 변수x의 값을 포함하는 문자열 변수를 반환합니다. txt_file_path 에 \"/root/aiffel/lyricist/data/lyrics/*\" 저장\n",
    "\n",
    "txt_list = glob.glob(txt_file_path) #txt_file_path 경로에 있는 모든 파일명을 리스트 형식으로 txt_list 에 할당\n",
    "\n",
    "raw_corpus = [] \n",
    "\n",
    "# 여러개의 txt 파일을 모두 읽어서 raw_corpus 에 담습니다.\n",
    "for txt_file in txt_list:\n",
    "    with open(txt_file, \"r\") as f:\n",
    "        raw = f.read().splitlines() #read() : 파일 전체의 내용을 하나의 문자열로 읽어온다. , splitlines()  : 여러라인으로 구분되어 있는 문자열을 한라인씩 분리하여 리스트로 반환\n",
    "        raw_corpus.extend(raw) # extend() : 리스트함수로 추가적인 내용을 연장 한다.\n",
    "\n",
    "print(\"데이터 크기:\", len(raw_corpus))\n",
    "print(\"Examples:\\n\", raw_corpus[:3])"
   ]
  },
  {
   "cell_type": "markdown",
   "id": "724f9e90",
   "metadata": {},
   "source": [
    "### Step 3. 데이터 정제\n",
    "- 문장을 토큰화 했을 때 토큰의 개수가 15개를 넘어가는 문장을 학습 데이터에서 제외"
   ]
  },
  {
   "cell_type": "code",
   "execution_count": 93,
   "id": "24cfdd4f",
   "metadata": {},
   "outputs": [],
   "source": [
    "# 여기에 정제된 문장을 모을겁니다\n",
    "corpus = []\n",
    "\n",
    "# raw_corpus list에 저장된 문장들을 순서대로 반환하여 sentence에 저장\n",
    "for sentence in raw_corpus:\n",
    "    # 우리가 원하지 않는 문장은 건너뜁니다\n",
    "    if ((len(sentence) == 0)|(len(sentence) >15)): continue\n",
    "    if sentence[-1] == \":\": continue\n",
    "\n",
    "    # 앞서 구현한 preprocess_sentence() 함수를 이용하여 문장을 정제를 하고 담아주세요\n",
    "    preprocessed_sentence = preprocess_sentence(sentence)\n",
    "    corpus.append(preprocessed_sentence)"
   ]
  },
  {
   "cell_type": "markdown",
   "id": "ae21af78",
   "metadata": {},
   "source": [
    "### Step 4. 평가 데이터셋 분리\n",
    "\n",
    "- tokenize() 함수로 데이터를 Tensor로 변환\n",
    "- sklearn 모듈의 train_test_split() 함수를 사용해 훈련 데이터와 평가 데이터를 분리\n",
    "- 단어장의 크기는 12,000 이상 으로 설정, 총 데이터의 20% 를 평가 데이터셋으로 사용"
   ]
  },
  {
   "cell_type": "code",
   "execution_count": 94,
   "id": "24a6dc80",
   "metadata": {},
   "outputs": [
    {
     "name": "stdout",
     "output_type": "stream",
     "text": [
      "[[   2  522  404 ...    0    0    0]\n",
      " [   2  265   44 ...    0    0    0]\n",
      " [   2   29    3 ...    0    0    0]\n",
      " ...\n",
      " [   2 1825  698 ...    0    0    0]\n",
      " [   2 1826    3 ...    0    0    0]\n",
      " [   2   40   23 ...    0    0    0]] <keras_preprocessing.text.Tokenizer object at 0x7f557ab2aa90>\n"
     ]
    }
   ],
   "source": [
    "tensor, tokenizer = tokenize(corpus, num_words=12000)"
   ]
  },
  {
   "cell_type": "code",
   "execution_count": 95,
   "id": "34ed13ba",
   "metadata": {},
   "outputs": [
    {
     "name": "stdout",
     "output_type": "stream",
     "text": [
      "1 : <unk>\n",
      "2 : <start>\n",
      "3 : <end>\n",
      "4 : i\n",
      "5 : ,\n",
      "6 : .\n",
      "7 : you\n",
      "8 : oh\n",
      "9 : it\n",
      "10 : me\n"
     ]
    }
   ],
   "source": [
    "# tokenizer.index_word: 현재 계산된 단어의 인덱스와 인덱스에 해당하는 단어를 dictionary 형대로 반환 (Ex. {index: '~~', index: '~~', ...})\n",
    "for idx in tokenizer.index_word:\n",
    "    print(idx, \":\", tokenizer.index_word[idx])\n",
    "\n",
    "    if idx >= 10: break"
   ]
  },
  {
   "cell_type": "code",
   "execution_count": 96,
   "id": "b645bd22",
   "metadata": {},
   "outputs": [
    {
     "name": "stdout",
     "output_type": "stream",
     "text": [
      "[  2 522 404   3   0   0   0   0   0   0   0   0   0   0   0   0   0   0\n",
      "   0]\n",
      "[522 404   3   0   0   0   0   0   0   0   0   0   0   0   0   0   0   0\n",
      "   0]\n"
     ]
    }
   ],
   "source": [
    "# tensor에서 마지막 토큰을 잘라내서 소스 문장을 생성합니다\n",
    "# 마지막 토큰은 <end>가 아니라 <pad>일 가능성이 높습니다.\n",
    "src_input = tensor[:, :-1]  \n",
    "# tensor에서 <start>를 잘라내서 타겟 문장을 생성합니다.\n",
    "tgt_input = tensor[:, 1:]    \n",
    "\n",
    "print(src_input[0])\n",
    "print(tgt_input[0])"
   ]
  },
  {
   "cell_type": "code",
   "execution_count": 97,
   "id": "cfa84716",
   "metadata": {},
   "outputs": [
    {
     "data": {
      "text/plain": [
       "<BatchDataset shapes: ((256, 19), (256, 19)), types: (tf.int32, tf.int32)>"
      ]
     },
     "execution_count": 97,
     "metadata": {},
     "output_type": "execute_result"
    }
   ],
   "source": [
    "BUFFER_SIZE = len(src_input)\n",
    "BATCH_SIZE = 256\n",
    "steps_per_epoch = len(src_input) // BATCH_SIZE\n",
    "\n",
    " # tokenizer가 구축한 단어사전 내 7000개와, 여기 포함되지 않은 0:<pad>를 포함하여 7001개\n",
    " # tokenizer.num_words: 주어진 데이터의 문장들에서 빈도수가 높은 n개의 단어만 선택\n",
    " # tokenize() 함수에서 num_words를 7000개로 선언했기 때문에, tokenizer.num_words의 값은 7000\n",
    "VOCAB_SIZE = tokenizer.num_words + 1   \n",
    "\n",
    "# 준비한 데이터 소스로부터 데이터셋을 만듭니다\n",
    "# 데이터셋에 대해서는 아래 문서를 참고하세요\n",
    "# 자세히 알아둘수록 도움이 많이 되는 중요한 문서입니다\n",
    "# https://www.tensorflow.org/api_docs/python/tf/data/Dataset\n",
    "dataset = tf.data.Dataset.from_tensor_slices((src_input, tgt_input))\n",
    "dataset = dataset.shuffle(BUFFER_SIZE)\n",
    "dataset = dataset.batch(BATCH_SIZE, drop_remainder=True)\n",
    "dataset"
   ]
  },
  {
   "cell_type": "code",
   "execution_count": 98,
   "id": "75eff557",
   "metadata": {},
   "outputs": [],
   "source": [
    "from sklearn.model_selection import train_test_split\n",
    "enc_train, enc_val, dec_train, dec_val = train_test_split(src_input, tgt_input, test_size=0.2)"
   ]
  },
  {
   "cell_type": "code",
   "execution_count": 99,
   "id": "e353be66",
   "metadata": {
    "scrolled": false
   },
   "outputs": [
    {
     "data": {
      "text/plain": [
       "((11296, 19), (2824, 19))"
      ]
     },
     "execution_count": 99,
     "metadata": {},
     "output_type": "execute_result"
    }
   ],
   "source": [
    "enc_train.shape, enc_val.shape"
   ]
  },
  {
   "cell_type": "markdown",
   "id": "ddfee1c4",
   "metadata": {},
   "source": [
    "### Step 5. 인공지능 만들기\n",
    "\n",
    "- 모델의 Embedding Size와 Hidden Size를 조절하며 10 Epoch 안에 val_loss 값을 2.2 수준으로 줄일 수 있는 모델을 설계하세요!"
   ]
  },
  {
   "cell_type": "code",
   "execution_count": 102,
   "id": "8ef842ad",
   "metadata": {},
   "outputs": [],
   "source": [
    "class TextGenerator(tf.keras.Model):\n",
    "    def __init__(self, vocab_size, embedding_size, hidden_size):\n",
    "        super().__init__()\n",
    "        # Embedding 레이어, 2개의 LSTM 레이어, 1개의 Dense 레이어로 구성되어 있다.\n",
    "        # Embedding 레이어는 단어 사전의 인덱스 값을 해당 인덱스 번째의 워드 벡터로 바꿔준다.\n",
    "        # 이 워드 벡터는 의미 벡터 공간에서 단어의 추상적 표현으로 사용된다. \n",
    "        self.embedding = tf.keras.layers.Embedding(vocab_size, embedding_size) \n",
    "        self.rnn_1 = tf.keras.layers.LSTM(hidden_size, return_sequences=True)  \n",
    "        self.rnn_2 = tf.keras.layers.LSTM(hidden_size, return_sequences=True)\n",
    "        self.linear = tf.keras.layers.Dense(vocab_size)\n",
    "        \n",
    "    def call(self, x):\n",
    "        out = self.embedding(x)\n",
    "        out = self.rnn_1(out)\n",
    "        out = self.rnn_2(out)\n",
    "        out = self.linear(out)\n",
    "        \n",
    "        return out\n",
    "    \n",
    "embedding_size = 256 # 워드 벡터의 차원수를 말하며 단어가 추상적으로 표현되는 크기입니다.\n",
    "hidden_size = 1024 # 모델에 얼마나 많은 일꾼을 둘 것인가? 정도로 이해하면 좋다.\n",
    "lyricist = TextGenerator(tokenizer.num_words + 1, embedding_size , hidden_size) # tokenizer.num_words에 +1인 이유는 문장에 없는 pad가 사용되었기 때문이다."
   ]
  },
  {
   "cell_type": "code",
   "execution_count": 104,
   "id": "aab0145f",
   "metadata": {
    "scrolled": true
   },
   "outputs": [
    {
     "data": {
      "text/plain": [
       "<tf.Tensor: shape=(256, 19, 12001), dtype=float32, numpy=\n",
       "array([[[ 1.6842324e-04,  6.3800340e-05, -6.5519575e-06, ...,\n",
       "          2.6644731e-05,  1.1542822e-04, -2.3632399e-05],\n",
       "        [ 1.3538780e-04,  4.3213560e-05,  3.1036499e-04, ...,\n",
       "         -3.2396879e-04, -1.5442792e-04, -1.0978050e-04],\n",
       "        [ 3.6786188e-04,  1.9293471e-04,  5.7433092e-04, ...,\n",
       "         -4.8412092e-04, -1.5266407e-04, -1.6277599e-04],\n",
       "        ...,\n",
       "        [-2.8636460e-03,  4.3085704e-04, -1.5500368e-03, ...,\n",
       "          1.6450785e-03, -2.6494479e-03, -1.1605484e-03],\n",
       "        [-2.9961695e-03,  4.5978275e-04, -1.5806202e-03, ...,\n",
       "          1.5966025e-03, -2.6615497e-03, -1.1417980e-03],\n",
       "        [-3.1107243e-03,  4.8638266e-04, -1.5997586e-03, ...,\n",
       "          1.5397454e-03, -2.6638152e-03, -1.1310105e-03]],\n",
       "\n",
       "       [[ 1.6842324e-04,  6.3800340e-05, -6.5519575e-06, ...,\n",
       "          2.6644731e-05,  1.1542822e-04, -2.3632399e-05],\n",
       "        [ 1.4087083e-04, -5.7181718e-05, -2.2390316e-04, ...,\n",
       "          1.6306208e-04,  4.8445381e-04, -4.9861987e-06],\n",
       "        [ 2.1278975e-04, -1.8872210e-04, -6.7600995e-05, ...,\n",
       "          3.5154342e-04,  4.0419816e-04, -1.8787343e-04],\n",
       "        ...,\n",
       "        [-3.0874647e-03,  3.4142591e-04, -1.5971013e-03, ...,\n",
       "          1.5707504e-03, -2.5038195e-03, -1.0436754e-03],\n",
       "        [-3.1870666e-03,  3.8741159e-04, -1.5989692e-03, ...,\n",
       "          1.5148269e-03, -2.5407483e-03, -1.0571249e-03],\n",
       "        [-3.2731046e-03,  4.2827980e-04, -1.5977779e-03, ...,\n",
       "          1.4555478e-03, -2.5644132e-03, -1.0728181e-03]],\n",
       "\n",
       "       [[ 1.6842324e-04,  6.3800340e-05, -6.5519575e-06, ...,\n",
       "          2.6644731e-05,  1.1542822e-04, -2.3632399e-05],\n",
       "        [ 1.1945754e-04,  2.6586142e-04,  1.7077643e-04, ...,\n",
       "          1.4491822e-04,  1.0414441e-04, -2.1551472e-04],\n",
       "        [-1.8147507e-04,  2.8940762e-04,  2.5002673e-04, ...,\n",
       "          2.9214215e-04,  2.5978877e-04, -3.3133564e-04],\n",
       "        ...,\n",
       "        [-2.6781012e-03,  2.8820895e-04, -1.6311291e-03, ...,\n",
       "          1.6768366e-03, -2.5481633e-03, -1.2399901e-03],\n",
       "        [-2.8239205e-03,  3.4888816e-04, -1.6637084e-03, ...,\n",
       "          1.6359467e-03, -2.6039430e-03, -1.2101562e-03],\n",
       "        [-2.9521969e-03,  4.0327586e-04, -1.6832786e-03, ...,\n",
       "          1.5843674e-03, -2.6410301e-03, -1.1893032e-03]],\n",
       "\n",
       "       ...,\n",
       "\n",
       "       [[ 1.6842324e-04,  6.3800340e-05, -6.5519575e-06, ...,\n",
       "          2.6644731e-05,  1.1542822e-04, -2.3632399e-05],\n",
       "        [ 3.6641513e-04, -1.3727220e-04,  7.2794232e-05, ...,\n",
       "          1.8126600e-05,  2.4824301e-04,  2.7768916e-04],\n",
       "        [ 5.2036520e-04, -2.8953818e-04,  3.8542956e-04, ...,\n",
       "          1.2596117e-04,  2.1750152e-06,  1.5753660e-04],\n",
       "        ...,\n",
       "        [-3.0551665e-03,  2.8265870e-04, -1.5845940e-03, ...,\n",
       "          1.4881452e-03, -2.5867720e-03, -1.1971361e-03],\n",
       "        [-3.1607626e-03,  3.3228114e-04, -1.5974848e-03, ...,\n",
       "          1.4459230e-03, -2.6067134e-03, -1.2005887e-03],\n",
       "        [-3.2518595e-03,  3.7698032e-04, -1.6041559e-03, ...,\n",
       "          1.3984285e-03, -2.6167308e-03, -1.2054220e-03]],\n",
       "\n",
       "       [[ 1.6842324e-04,  6.3800340e-05, -6.5519575e-06, ...,\n",
       "          2.6644731e-05,  1.1542822e-04, -2.3632399e-05],\n",
       "        [ 3.7687892e-04, -6.0890139e-05, -1.3878905e-04, ...,\n",
       "          1.6061577e-04,  8.9714136e-05, -2.0460229e-05],\n",
       "        [ 1.8176976e-04,  1.6103153e-06, -1.0174675e-04, ...,\n",
       "          8.9265835e-05,  1.9419938e-04,  1.7771257e-04],\n",
       "        ...,\n",
       "        [-2.8652339e-03,  3.0343878e-04, -1.5838655e-03, ...,\n",
       "          1.7989527e-03, -2.5581215e-03, -1.0575013e-03],\n",
       "        [-3.0101317e-03,  3.5730485e-04, -1.6316666e-03, ...,\n",
       "          1.7493226e-03, -2.6112089e-03, -1.0557488e-03],\n",
       "        [-3.1326988e-03,  4.0514511e-04, -1.6618330e-03, ...,\n",
       "          1.6877691e-03, -2.6464553e-03, -1.0603111e-03]],\n",
       "\n",
       "       [[ 1.6842324e-04,  6.3800340e-05, -6.5519575e-06, ...,\n",
       "          2.6644731e-05,  1.1542822e-04, -2.3632399e-05],\n",
       "        [ 3.8011527e-05,  2.5787018e-04, -3.2974334e-04, ...,\n",
       "          2.1986381e-04,  3.8560739e-04, -1.5545431e-04],\n",
       "        [-2.4390001e-04,  4.7562463e-04, -8.3473226e-04, ...,\n",
       "          5.2750035e-04,  7.1691716e-04, -3.3970835e-04],\n",
       "        ...,\n",
       "        [-2.2239666e-03, -2.6775306e-04, -1.7933146e-03, ...,\n",
       "          2.2280312e-03, -2.5097609e-03, -1.6851680e-03],\n",
       "        [-2.3726989e-03, -1.8294946e-04, -1.7462978e-03, ...,\n",
       "          2.1260662e-03, -2.6160202e-03, -1.6138459e-03],\n",
       "        [-2.5144012e-03, -9.3004717e-05, -1.7076624e-03, ...,\n",
       "          2.0180661e-03, -2.6857625e-03, -1.5507556e-03]]], dtype=float32)>"
      ]
     },
     "execution_count": 104,
     "metadata": {},
     "output_type": "execute_result"
    }
   ],
   "source": [
    "# 데이터셋에서 데이터 한 배치만 불러오는 방법입니다.\n",
    "for src_sample, tgt_sample in dataset.take(1): break\n",
    "\n",
    "# 한 배치만 불러온 데이터를 모델에 넣어봅니다\n",
    "lyricist(src_sample)"
   ]
  },
  {
   "cell_type": "code",
   "execution_count": 105,
   "id": "aebba4d7",
   "metadata": {
    "scrolled": true
   },
   "outputs": [
    {
     "name": "stdout",
     "output_type": "stream",
     "text": [
      "Model: \"text_generator_5\"\n",
      "_________________________________________________________________\n",
      "Layer (type)                 Output Shape              Param #   \n",
      "=================================================================\n",
      "embedding_5 (Embedding)      multiple                  3072256   \n",
      "_________________________________________________________________\n",
      "lstm_10 (LSTM)               multiple                  5246976   \n",
      "_________________________________________________________________\n",
      "lstm_11 (LSTM)               multiple                  8392704   \n",
      "_________________________________________________________________\n",
      "dense_5 (Dense)              multiple                  12301025  \n",
      "=================================================================\n",
      "Total params: 29,012,961\n",
      "Trainable params: 29,012,961\n",
      "Non-trainable params: 0\n",
      "_________________________________________________________________\n"
     ]
    }
   ],
   "source": [
    "# 모델의 구조를 확인합니다.\n",
    "lyricist.summary()"
   ]
  },
  {
   "cell_type": "code",
   "execution_count": 106,
   "id": "1c8ee922",
   "metadata": {},
   "outputs": [
    {
     "name": "stdout",
     "output_type": "stream",
     "text": [
      "Epoch 1/20\n",
      "353/353 [==============================] - 18s 44ms/step - loss: 1.1826 - val_loss: 0.9128\n",
      "Epoch 2/20\n",
      "353/353 [==============================] - 16s 44ms/step - loss: 0.8729 - val_loss: 0.8833\n",
      "Epoch 3/20\n",
      "353/353 [==============================] - 16s 44ms/step - loss: 0.8365 - val_loss: 0.8580\n",
      "Epoch 4/20\n",
      "353/353 [==============================] - 15s 43ms/step - loss: 0.7863 - val_loss: 0.8455\n",
      "Epoch 5/20\n",
      "353/353 [==============================] - 15s 42ms/step - loss: 0.7409 - val_loss: 0.8108\n",
      "Epoch 6/20\n",
      "353/353 [==============================] - 15s 42ms/step - loss: 0.7008 - val_loss: 0.7883\n",
      "Epoch 7/20\n",
      "353/353 [==============================] - 15s 43ms/step - loss: 0.6654 - val_loss: 0.7754\n",
      "Epoch 8/20\n",
      "353/353 [==============================] - 16s 44ms/step - loss: 0.6327 - val_loss: 0.7617\n",
      "Epoch 9/20\n",
      "353/353 [==============================] - 15s 43ms/step - loss: 0.6045 - val_loss: 0.7530\n",
      "Epoch 10/20\n",
      "353/353 [==============================] - 15s 43ms/step - loss: 0.5799 - val_loss: 0.7467\n",
      "Epoch 11/20\n",
      "353/353 [==============================] - 15s 43ms/step - loss: 0.5591 - val_loss: 0.7436\n",
      "Epoch 12/20\n",
      "353/353 [==============================] - 15s 43ms/step - loss: 0.5424 - val_loss: 0.7425\n",
      "Epoch 13/20\n",
      "353/353 [==============================] - 15s 43ms/step - loss: 0.5272 - val_loss: 0.7387\n",
      "Epoch 14/20\n",
      "353/353 [==============================] - 15s 43ms/step - loss: 0.5154 - val_loss: 0.7410\n",
      "Epoch 15/20\n",
      "353/353 [==============================] - 15s 43ms/step - loss: 0.5048 - val_loss: 0.7409\n",
      "Epoch 16/20\n",
      "353/353 [==============================] - 15s 43ms/step - loss: 0.4966 - val_loss: 0.7416\n",
      "Epoch 17/20\n",
      "353/353 [==============================] - 15s 43ms/step - loss: 0.4890 - val_loss: 0.7428\n",
      "Epoch 18/20\n",
      "353/353 [==============================] - 15s 43ms/step - loss: 0.4829 - val_loss: 0.7440\n",
      "Epoch 19/20\n",
      "353/353 [==============================] - 15s 43ms/step - loss: 0.4780 - val_loss: 0.7505\n",
      "Epoch 20/20\n",
      "353/353 [==============================] - 15s 43ms/step - loss: 0.4741 - val_loss: 0.7495\n"
     ]
    },
    {
     "data": {
      "text/plain": [
       "<keras.callbacks.History at 0x7f557aa8c760>"
      ]
     },
     "execution_count": 106,
     "metadata": {},
     "output_type": "execute_result"
    }
   ],
   "source": [
    "#Loss\n",
    "# tf.keras.losses.SparseCategoricalCrossentropy : https://www.tensorflow.org/api_docs/python/tf/keras/losses/SparseCategoricalCrossentropy\n",
    "loss = tf.keras.losses.SparseCategoricalCrossentropy( \n",
    "    from_logits=True, reduction='none') \n",
    "# 클래스 분류 문제에서 softmax 함수를 거치면 from_logits = False(default값),그렇지 않으면 from_logits = True.\n",
    "\n",
    "optimizer = tf.keras.optimizers.Adam() # Adam은 현재 가장 많이 사용하는 옵티마이저이다. 자세한 내용은 차차 배운다.\n",
    "\n",
    "# 모델을 학습시키키 위한 학습과정을 설정하는 단계이다.\n",
    "lyricist.compile(loss=loss, optimizer=optimizer) # 손실함수와 훈련과정을 설정했다.\n",
    "lyricist.fit(enc_train, dec_train, epochs=20, validation_data=(enc_val, dec_val)) # 만들어둔 데이터셋으로 모델을 학습한다. "
   ]
  },
  {
   "cell_type": "markdown",
   "id": "20bdc5a8",
   "metadata": {},
   "source": [
    "#### val_loss가 처음부터 2.2 이하로 도출되었다.\n",
    "#### 이제 학습된 모델으로 문장을 생성해보자."
   ]
  },
  {
   "cell_type": "code",
   "execution_count": 107,
   "id": "8f3644c8",
   "metadata": {},
   "outputs": [],
   "source": [
    "#문장생성 함수 정의\n",
    "#모델에게 시작 문장을 전달하면 모델이 시작 문장을 바탕으로 작문을 진행\n",
    "def generate_text(model, tokenizer, init_sentence=\"<start>\", max_len=20): \n",
    "    #시작 문자열을 init_sentence 로 받으며 디폴트값은 <start> 를 받는다\n",
    "    # 테스트를 위해서 입력받은 init_sentence도 텐서로 변환합니다\n",
    "    test_input = tokenizer.texts_to_sequences([init_sentence]) #텍스트 안의 단어들을 숫자의 시퀀스의 형태로 변환\n",
    "    test_tensor = tf.convert_to_tensor(test_input, dtype=tf.int64)\n",
    "    end_token = tokenizer.word_index[\"<end>\"]\n",
    "\n",
    "    # 단어 하나씩 예측해 문장을 만듭니다\n",
    "    #    1. 입력받은 문장의 텐서를 입력합니다\n",
    "    #    2. 예측된 값 중 가장 높은 확률인 word index를 뽑아냅니다\n",
    "    #    3. 2에서 예측된 word index를 문장 뒤에 붙입니다\n",
    "    #    4. 모델이 <end>를 예측했거나, max_len에 도달했다면 문장 생성을 마칩니다 (도달 하지 못하였으면 while 루프를 돌면서 다음 단어를 예측)\n",
    "    while True: #루프를 돌면서 init_sentence에 단어를 하나씩 생성성\n",
    "        # 1\n",
    "        predict = model(test_tensor) \n",
    "        # 2\n",
    "        predict_word = tf.argmax(tf.nn.softmax(predict, axis=-1), axis=-1)[:, -1] \n",
    "        # 3 \n",
    "        test_tensor = tf.concat([test_tensor, tf.expand_dims(predict_word, axis=0)], axis=-1)\n",
    "        # 4 \n",
    "        if predict_word.numpy()[0] == end_token: break\n",
    "        if test_tensor.shape[1] >= max_len: break\n",
    "\n",
    "    generated = \"\"\n",
    "    # tokenizer를 이용해 word index를 단어로 하나씩 변환합니다 \n",
    "    for word_index in test_tensor[0].numpy():\n",
    "        generated += tokenizer.index_word[word_index] + \" \"\n",
    "\n",
    "    return generated #최종적으로 모델이 생성한 문장을 반환"
   ]
  },
  {
   "cell_type": "markdown",
   "id": "6f8b3f00",
   "metadata": {},
   "source": [
    "### 내가 만든 가사"
   ]
  },
  {
   "cell_type": "code",
   "execution_count": 108,
   "id": "1709dd32",
   "metadata": {},
   "outputs": [
    {
     "data": {
      "text/plain": [
       "'<start> i love you <end> '"
      ]
     },
     "execution_count": 108,
     "metadata": {},
     "output_type": "execute_result"
    }
   ],
   "source": [
    "# 시작은 무난하다.\n",
    "generate_text(lyricist, tokenizer, init_sentence=\"<start> i love\", max_len=20)"
   ]
  },
  {
   "cell_type": "code",
   "execution_count": 125,
   "id": "35b65ebd",
   "metadata": {},
   "outputs": [
    {
     "data": {
      "text/plain": [
       "'<start> time to say it <end> '"
      ]
     },
     "execution_count": 125,
     "metadata": {},
     "output_type": "execute_result"
    }
   ],
   "source": [
    "generate_text(lyricist, tokenizer, init_sentence=\"<start> time\", max_len=20)"
   ]
  },
  {
   "cell_type": "code",
   "execution_count": 114,
   "id": "c2fce12b",
   "metadata": {},
   "outputs": [
    {
     "data": {
      "text/plain": [
       "'<start> this is so sad <end> '"
      ]
     },
     "execution_count": 114,
     "metadata": {},
     "output_type": "execute_result"
    }
   ],
   "source": [
    "generate_text(lyricist, tokenizer, init_sentence=\"<start> this is so\", max_len=20)"
   ]
  },
  {
   "cell_type": "code",
   "execution_count": 115,
   "id": "17598edf",
   "metadata": {},
   "outputs": [
    {
     "data": {
      "text/plain": [
       "'<start> i like that <end> '"
      ]
     },
     "execution_count": 115,
     "metadata": {},
     "output_type": "execute_result"
    }
   ],
   "source": [
    "# ???\n",
    "generate_text(lyricist, tokenizer, init_sentence=\"<start> i like\", max_len=20)"
   ]
  },
  {
   "cell_type": "code",
   "execution_count": 116,
   "id": "a02b7f5e",
   "metadata": {},
   "outputs": [
    {
     "data": {
      "text/plain": [
       "'<start> can you relate ? <end> '"
      ]
     },
     "execution_count": 116,
     "metadata": {},
     "output_type": "execute_result"
    }
   ],
   "source": [
    "# 이건 후렴 각이다.\n",
    "generate_text(lyricist, tokenizer, init_sentence=\"<start> can you\", max_len=20)"
   ]
  },
  {
   "cell_type": "code",
   "execution_count": 126,
   "id": "c9aee46e",
   "metadata": {},
   "outputs": [
    {
     "data": {
      "text/plain": [
       "'<start> can i see u ? <end> '"
      ]
     },
     "execution_count": 126,
     "metadata": {},
     "output_type": "execute_result"
    }
   ],
   "source": [
    "generate_text(lyricist, tokenizer, init_sentence=\"<start> can i\", max_len=20)"
   ]
  },
  {
   "cell_type": "code",
   "execution_count": 128,
   "id": "1c61e1ad",
   "metadata": {},
   "outputs": [
    {
     "data": {
      "text/plain": [
       "'<start> i m a survivor <end> '"
      ]
     },
     "execution_count": 128,
     "metadata": {},
     "output_type": "execute_result"
    }
   ],
   "source": [
    "# 기본으로 해보자\n",
    "generate_text(lyricist, tokenizer, init_sentence=\"<start>\", max_len=20)"
   ]
  },
  {
   "cell_type": "markdown",
   "id": "4d90fd61",
   "metadata": {},
   "source": [
    "### 회고"
   ]
  },
  {
   "cell_type": "markdown",
   "id": "779df556",
   "metadata": {},
   "source": [
    "- 굉장히 짧은 문장들(<=15)으로 학습시켜서 거의 1~2단어를 순차 생성하는 간단한 모델이지만 해석 가능한 문장을 얻을 수 있었다.\n",
    "- lyrics 데이터 속 내용들이 좀 고난과 역경?을 좀 맛본 후 써진 것 같다.\n",
    "- 자연어 처리는 크게 접해본 적 없는 분야인데 특수문자 제거, 토크나이저 생성, 패딩 처리의 작업들을 진행해보며 대략적인 작업 과정을 이해할 수 있었다."
   ]
  }
 ],
 "metadata": {
  "kernelspec": {
   "display_name": "Python 3 (ipykernel)",
   "language": "python",
   "name": "python3"
  },
  "language_info": {
   "codemirror_mode": {
    "name": "ipython",
    "version": 3
   },
   "file_extension": ".py",
   "mimetype": "text/x-python",
   "name": "python",
   "nbconvert_exporter": "python",
   "pygments_lexer": "ipython3",
   "version": "3.9.7"
  }
 },
 "nbformat": 4,
 "nbformat_minor": 5
}
